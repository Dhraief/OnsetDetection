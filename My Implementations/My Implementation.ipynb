{
 "cells": [
  {
   "cell_type": "markdown",
   "metadata": {
    "ExecuteTime": {
     "end_time": "2020-12-09T02:37:08.636935Z",
     "start_time": "2020-12-09T02:37:08.628264Z"
    },
    "code_folding": [],
    "heading_collapsed": true
   },
   "source": [
    "### Import& Hyperparameters"
   ]
  },
  {
   "cell_type": "code",
   "execution_count": 1,
   "metadata": {
    "ExecuteTime": {
     "end_time": "2020-12-28T19:19:30.731538Z",
     "start_time": "2020-12-28T19:19:19.136647Z"
    },
    "hidden": true
   },
   "outputs": [],
   "source": [
    "# importing the libraries\n",
    "import pandas as pd\n",
    "import numpy as np\n",
    "\n",
    "# for reading and displaying images\n",
    "from skimage.io import imread\n",
    "import matplotlib.pyplot as plt\n",
    "%matplotlib inline\n",
    "\n",
    "#for importing audio\n",
    "import glob\n",
    "import os \n",
    "import IPython\n",
    "import IPython.display as ipd\n",
    "\n",
    "\n",
    "#For reading music\n",
    "import librosa as lb\n",
    "import librosa.display\n",
    "\n",
    "\n",
    "# for creating validation set\n",
    "from sklearn.model_selection import train_test_split\n",
    "\n",
    "# for evaluating the model\n",
    "from sklearn.metrics import accuracy_score\n",
    "from tqdm import tqdm\n",
    "\n",
    "# PyTorch libraries and modules\n",
    "import torch\n",
    "import torch.nn as nn\n",
    "import torch.nn.functional as F\n",
    "from torch.autograd import Variable\n",
    "from torch.nn import Linear, ReLU, CrossEntropyLoss, Sequential, Conv2d, MaxPool2d, Module, Softmax, BatchNorm2d, Dropout\n",
    "from torch.optim import Adam, SGD"
   ]
  },
  {
   "cell_type": "code",
   "execution_count": 2,
   "metadata": {
    "ExecuteTime": {
     "end_time": "2020-12-28T19:19:30.747502Z",
     "start_time": "2020-12-28T19:19:30.731538Z"
    },
    "hidden": true
   },
   "outputs": [],
   "source": [
    "# Hyperparameters\n",
    "\n",
    "# question: 93ms is higher than the n_ftt\n",
    "num_epochs = 5\n",
    "num_classes = 10\n",
    "batch_size = 100\n",
    "adam_lr = 0.005\n",
    "test_size = 0.61\n",
    "n_mels = 80\n",
    "framePerInput = 15\n",
    "DATA_PATH = \"Data\"\n",
    "\n",
    "window = [23, 46, 92]  # ms\n",
    "hop_size = 10  # ms"
   ]
  },
  {
   "cell_type": "markdown",
   "metadata": {
    "heading_collapsed": true
   },
   "source": [
    "### From Data Load to Input of Model"
   ]
  },
  {
   "cell_type": "code",
   "execution_count": 3,
   "metadata": {
    "ExecuteTime": {
     "end_time": "2020-12-28T19:19:46.262844Z",
     "start_time": "2020-12-28T19:19:30.747502Z"
    },
    "hidden": true,
    "scrolled": true
   },
   "outputs": [],
   "source": [
    "#load the data paths\n",
    "list_of_songs= glob.glob( os.path.join(DATA_PATH, '**', '*.wav'), recursive=True)\n",
    "#data: list of wav sound files \n",
    "data = [lb.load(song) for song in list_of_songs]\n",
    "\n",
    "\n",
    "#to access sample rate of the ith song data[i][1]\n"
   ]
  },
  {
   "cell_type": "code",
   "execution_count": 4,
   "metadata": {
    "ExecuteTime": {
     "end_time": "2020-12-28T19:19:46.283915Z",
     "start_time": "2020-12-28T19:19:46.266578Z"
    },
    "hidden": true
   },
   "outputs": [
    {
     "name": "stdout",
     "output_type": "stream",
     "text": [
      "number of songs 17\n"
     ]
    }
   ],
   "source": [
    "print(\"number of songs\",len(list_of_songs))\n",
    "n_song= len(list_of_songs)"
   ]
  },
  {
   "cell_type": "code",
   "execution_count": 5,
   "metadata": {
    "ExecuteTime": {
     "end_time": "2020-12-28T19:19:46.304259Z",
     "start_time": "2020-12-28T19:19:46.286561Z"
    },
    "hidden": true
   },
   "outputs": [
    {
     "name": "stdout",
     "output_type": "stream",
     "text": [
      "22050\n"
     ]
    }
   ],
   "source": [
    "print(data[0][1])\n",
    "#access to sample rate"
   ]
  },
  {
   "cell_type": "code",
   "execution_count": 6,
   "metadata": {
    "ExecuteTime": {
     "end_time": "2020-12-28T19:19:50.434433Z",
     "start_time": "2020-12-28T19:19:46.306778Z"
    },
    "hidden": true
   },
   "outputs": [
    {
     "name": "stderr",
     "output_type": "stream",
     "text": [
      "<ipython-input-6-9bfe7a71c076>:19: RuntimeWarning: divide by zero encountered in log\n",
      "  img= np.log(melspectogram)\n"
     ]
    }
   ],
   "source": [
    "# loading training images\n",
    "\n",
    "#TODO Calculate max_frame frmo data and get ri\n",
    "#TODO: frequences from 27.5 to 16kHz\n",
    "#normalize each freq band to zero mean and unit variange\n",
    "train_img = []\n",
    "\n",
    "for y in data :\n",
    "    tab=[]\n",
    "    for i in range(len(window)):\n",
    "    #transform the audio into a melspectogram \n",
    "    #ADDED: window size \n",
    "        sr_y= y[1]\n",
    "        window_size_i= (0.001* window[i])* sr_y\n",
    "        hop_length=int(hop_size*0.001*sr_y)\n",
    "        \n",
    "        melspectogram=lb.feature.melspectrogram(y=y[0],hop_length=hop_length,sr=sr_y,win_length= int(window_size_i),n_mels=n_mels)\n",
    "        # take the log instead of the db \n",
    "        img= np.log(melspectogram)\n",
    "        # 603: x axis, 128, y avis\n",
    "        # converting the type of pixel to float 32\n",
    "        img = img.astype('float32')\n",
    "        # appending the image into the list\n",
    "        tab.append(img)\n",
    "    train_img.append(tab)\n"
   ]
  },
  {
   "cell_type": "code",
   "execution_count": 7,
   "metadata": {
    "ExecuteTime": {
     "end_time": "2020-12-28T19:19:50.444449Z",
     "start_time": "2020-12-28T19:19:50.436459Z"
    },
    "hidden": true
   },
   "outputs": [
    {
     "name": "stdout",
     "output_type": "stream",
     "text": [
      "number of spectograms 17\n",
      "3\n",
      "(80, 1404)\n",
      "dimensions of a spectogram :(n_mels, #frames)\n",
      "#frames=(1+len(y)/hop_length)\n"
     ]
    }
   ],
   "source": [
    "\n",
    "print(\"number of spectograms \"+str(len(train_img)))\n",
    "print(len(train_img[0]))\n",
    "print(train_img[0][0].shape)\n",
    "print (\"dimensions of a spectogram :(n_mels, #frames)\" )\n",
    "print(\"#frames=(1+len(y)/hop_length)\")\n"
   ]
  },
  {
   "cell_type": "code",
   "execution_count": 8,
   "metadata": {
    "ExecuteTime": {
     "end_time": "2020-12-28T19:19:50.468255Z",
     "start_time": "2020-12-28T19:19:50.444449Z"
    },
    "hidden": true
   },
   "outputs": [],
   "source": [
    "#pad the np array of a song so the number of frames can be a multiple of framPerInput(15)\n",
    "def padToCloset(n_song):\n",
    "    spectograms=np.array(train_img[n_song])\n",
    "    print(\"before\",spectograms.shape)\n",
    "    n_frame= train_img[n_song][0].shape[1]\n",
    "    frames_to_add = 0 if (n_frame %framePerInput==0) else framePerInput-(n_frame%framePerInput)\n",
    "    return np.pad(spectograms,( (0,0),(0,0), (0,int(frames_to_add))))"
   ]
  },
  {
   "cell_type": "code",
   "execution_count": 9,
   "metadata": {
    "ExecuteTime": {
     "end_time": "2020-12-28T19:19:50.502392Z",
     "start_time": "2020-12-28T19:19:50.468255Z"
    },
    "hidden": true
   },
   "outputs": [
    {
     "name": "stdout",
     "output_type": "stream",
     "text": [
      "before (3, 80, 1404)\n",
      "(3, 80, 1410)\n"
     ]
    }
   ],
   "source": [
    "print(padToCloset(0).shape)"
   ]
  },
  {
   "cell_type": "code",
   "execution_count": 10,
   "metadata": {
    "ExecuteTime": {
     "end_time": "2020-12-28T19:19:50.520395Z",
     "start_time": "2020-12-28T19:19:50.504406Z"
    },
    "hidden": true
   },
   "outputs": [],
   "source": [
    "n_frames_song= np.empty(n_song,dtype=object)\n",
    "def songToInputs():\n",
    "    res=[]\n",
    "    n=0\n",
    "    for i in range(n_song):\n",
    "        print(\"song\",i,\"--------------\")\n",
    "        spec=padToCloset(i)\n",
    "        print(\"after\",padToCloset(i).shape)\n",
    "        n_frame= spec.shape[2]\n",
    "        n_frames_song[i]=n\n",
    "        n+=n_frame\n",
    "\n",
    "        for k in range(int(n_frame/15)):\n",
    "            res.append( spec [:,:,15*k:15*(k+1) ])\n",
    "        print(len(res))\n",
    "\n",
    "    return np.array(res)\n"
   ]
  },
  {
   "cell_type": "code",
   "execution_count": 11,
   "metadata": {
    "ExecuteTime": {
     "end_time": "2020-12-28T19:19:50.538374Z",
     "start_time": "2020-12-28T19:19:50.520395Z"
    },
    "hidden": true
   },
   "outputs": [
    {
     "name": "stdout",
     "output_type": "stream",
     "text": [
      "(17,)\n"
     ]
    }
   ],
   "source": [
    "    print (n_frames_song.shape)"
   ]
  },
  {
   "cell_type": "code",
   "execution_count": 12,
   "metadata": {
    "ExecuteTime": {
     "end_time": "2020-12-28T19:19:50.678303Z",
     "start_time": "2020-12-28T19:19:50.538374Z"
    },
    "hidden": true
   },
   "outputs": [
    {
     "name": "stdout",
     "output_type": "stream",
     "text": [
      "song 0 --------------\n",
      "before (3, 80, 1404)\n",
      "before (3, 80, 1404)\n",
      "after (3, 80, 1410)\n",
      "94\n",
      "song 1 --------------\n",
      "before (3, 80, 3021)\n",
      "before (3, 80, 3021)\n",
      "after (3, 80, 3030)\n",
      "296\n",
      "song 2 --------------\n",
      "before (3, 80, 2005)\n",
      "before (3, 80, 2005)\n",
      "after (3, 80, 2010)\n",
      "430\n",
      "song 3 --------------\n",
      "before (3, 80, 1474)\n",
      "before (3, 80, 1474)\n",
      "after (3, 80, 1485)\n",
      "529\n",
      "song 4 --------------\n",
      "before (3, 80, 602)\n",
      "before (3, 80, 602)\n",
      "after (3, 80, 615)\n",
      "570\n",
      "song 5 --------------\n",
      "before (3, 80, 1504)\n",
      "before (3, 80, 1504)\n",
      "after (3, 80, 1515)\n",
      "671\n",
      "song 6 --------------\n",
      "before (3, 80, 1504)\n",
      "before (3, 80, 1504)\n",
      "after (3, 80, 1515)\n",
      "772\n",
      "song 7 --------------\n",
      "before (3, 80, 1474)\n",
      "before (3, 80, 1474)\n",
      "after (3, 80, 1485)\n",
      "871\n",
      "song 8 --------------\n",
      "before (3, 80, 1103)\n",
      "before (3, 80, 1103)\n",
      "after (3, 80, 1110)\n",
      "945\n",
      "song 9 --------------\n",
      "before (3, 80, 1504)\n",
      "before (3, 80, 1504)\n",
      "after (3, 80, 1515)\n",
      "1046\n",
      "song 10 --------------\n",
      "before (3, 80, 1504)\n",
      "before (3, 80, 1504)\n",
      "after (3, 80, 1515)\n",
      "1147\n",
      "song 11 --------------\n",
      "before (3, 80, 1554)\n",
      "before (3, 80, 1554)\n",
      "after (3, 80, 1560)\n",
      "1251\n",
      "song 12 --------------\n",
      "before (3, 80, 1250)\n",
      "before (3, 80, 1250)\n",
      "after (3, 80, 1260)\n",
      "1335\n",
      "song 13 --------------\n",
      "before (3, 80, 702)\n",
      "before (3, 80, 702)\n",
      "after (3, 80, 705)\n",
      "1382\n",
      "song 14 --------------\n",
      "before (3, 80, 682)\n",
      "before (3, 80, 682)\n",
      "after (3, 80, 690)\n",
      "1428\n",
      "song 15 --------------\n",
      "before (3, 80, 1501)\n",
      "before (3, 80, 1501)\n",
      "after (3, 80, 1515)\n",
      "1529\n",
      "song 16 --------------\n",
      "before (3, 80, 1504)\n",
      "before (3, 80, 1504)\n",
      "after (3, 80, 1515)\n",
      "1630\n"
     ]
    }
   ],
   "source": [
    "train_img_f=songToInputs()"
   ]
  },
  {
   "cell_type": "code",
   "execution_count": 13,
   "metadata": {
    "ExecuteTime": {
     "end_time": "2020-12-28T19:19:50.686275Z",
     "start_time": "2020-12-28T19:19:50.678303Z"
    },
    "hidden": true
   },
   "outputs": [
    {
     "name": "stdout",
     "output_type": "stream",
     "text": [
      "[0.0 94.0 296.0 430.0 529.0 570.0 671.0 772.0 871.0 945.0 1046.0 1147.0\n",
      " 1251.0 1335.0 1382.0 1428.0 1529.0]\n"
     ]
    }
   ],
   "source": [
    "n_frames=n_frames_song/15\n",
    "print(n_frames)"
   ]
  },
  {
   "cell_type": "code",
   "execution_count": 14,
   "metadata": {
    "ExecuteTime": {
     "end_time": "2020-12-28T19:19:50.718305Z",
     "start_time": "2020-12-28T19:19:50.686275Z"
    },
    "hidden": true
   },
   "outputs": [
    {
     "name": "stdout",
     "output_type": "stream",
     "text": [
      "(1630, 3, 80, 15)\n"
     ]
    }
   ],
   "source": [
    "print(train_img_f.shape)"
   ]
  },
  {
   "cell_type": "code",
   "execution_count": 15,
   "metadata": {
    "ExecuteTime": {
     "end_time": "2020-12-28T19:19:51.777289Z",
     "start_time": "2020-12-28T19:19:50.718305Z"
    },
    "hidden": true
   },
   "outputs": [
    {
     "name": "stdout",
     "output_type": "stream",
     "text": [
      "(3, 80, 15)\n"
     ]
    },
    {
     "data": {
      "image/png": "[encoded data removed]",
      "text/plain": [
       "<Figure size 720x360 with 2 Axes>"
      ]
     },
     "metadata": {
      "needs_background": "light"
     },
     "output_type": "display_data"
    },
    {
     "name": "stdout",
     "output_type": "stream",
     "text": [
      "(3, 80, 15)\n"
     ]
    },
    {
     "data": {
      "image/png": "[encoded data removed]",
      "text/plain": [
       "<Figure size 720x360 with 2 Axes>"
      ]
     },
     "metadata": {
      "needs_background": "light"
     },
     "output_type": "display_data"
    },
    {
     "name": "stdout",
     "output_type": "stream",
     "text": [
      "(3, 80, 15)\n"
     ]
    },
    {
     "data": {
      "image/png": "[encoded data removed]",
      "text/plain": [
       "<Figure size 720x360 with 2 Axes>"
      ]
     },
     "metadata": {
      "needs_background": "light"
     },
     "output_type": "display_data"
    }
   ],
   "source": [
    "#QUESTION: DO ALL FRAMES HAVE THE SAME LENGTH? DOES THE WINDOW AFFECT THE FRAME LENGTH?\n",
    "\n",
    "#visualize an image \n",
    "plt.figure(figsize=(10, 5))\n",
    "print(train_img_f[0].shape)\n",
    "librosa.display.specshow(train_img_f[0][0], x_axis='time', y_axis='mel', sr=22050, fmax=8000)\n",
    "plt.colorbar(format='%+1.0f dB')\n",
    "plt.title(\"MelSpectrogram\")\n",
    "plt.tight_layout()\n",
    "plt.show()\n",
    "\n",
    "plt.figure(figsize=(10, 5))\n",
    "print(train_img_f[1].shape)\n",
    "librosa.display.specshow(train_img_f[0][1], x_axis='time', y_axis='mel', sr=22050, fmax=8000)\n",
    "plt.colorbar(format='%+1.0f dB')\n",
    "plt.title(\"MelSpectrogram\")\n",
    "plt.tight_layout()\n",
    "plt.show()\n",
    "\n",
    "plt.figure(figsize=(10, 5))\n",
    "print(train_img_f[2].shape)\n",
    "librosa.display.specshow(train_img_f[0][2], x_axis='time', y_axis='mel', sr=22050, fmax=8000)\n",
    "plt.colorbar(format='%+1.0f dB')\n",
    "plt.title(\"MelSpectrogram\")\n",
    "plt.tight_layout()\n",
    "plt.show()\n"
   ]
  },
  {
   "cell_type": "code",
   "execution_count": 16,
   "metadata": {
    "ExecuteTime": {
     "end_time": "2020-12-28T19:19:51.788643Z",
     "start_time": "2020-12-28T19:19:51.780682Z"
    },
    "hidden": true
   },
   "outputs": [],
   "source": [
    "#load labels\n",
    "n_inputs=train_img_f.shape[0]"
   ]
  },
  {
   "cell_type": "code",
   "execution_count": 17,
   "metadata": {
    "ExecuteTime": {
     "end_time": "2020-12-28T19:19:51.927051Z",
     "start_time": "2020-12-28T19:19:51.790531Z"
    },
    "hidden": true
   },
   "outputs": [],
   "source": [
    "# load labels\n",
    "list_labels= glob.glob( os.path.join(DATA_PATH, '**', '*.csv'), recursive=True)\n",
    "label = [pd.read_csv(label,header=None) for label in list_labels ]\n"
   ]
  },
  {
   "cell_type": "code",
   "execution_count": 18,
   "metadata": {
    "ExecuteTime": {
     "end_time": "2020-12-28T19:19:51.935051Z",
     "start_time": "2020-12-28T19:19:51.927051Z"
    },
    "hidden": true
   },
   "outputs": [],
   "source": [
    "def returnNameFile(s):\n",
    "    return (os.path.splitext(os.path.basename(s))[0])"
   ]
  },
  {
   "cell_type": "code",
   "execution_count": 19,
   "metadata": {
    "ExecuteTime": {
     "end_time": "2020-12-28T19:19:51.959053Z",
     "start_time": "2020-12-28T19:19:51.935051Z"
    },
    "hidden": true
   },
   "outputs": [],
   "source": [
    "def labelMatchSongs() :\n",
    "    for i in range(len(list_of_songs)):\n",
    "        if (returnNameFile(list_of_songs[i])!=returnNameFile(list_labels[i])): return False\n",
    "    return True\n",
    "    "
   ]
  },
  {
   "cell_type": "code",
   "execution_count": 20,
   "metadata": {
    "ExecuteTime": {
     "end_time": "2020-12-28T19:19:51.983051Z",
     "start_time": "2020-12-28T19:19:51.959053Z"
    },
    "hidden": true
   },
   "outputs": [
    {
     "name": "stdout",
     "output_type": "stream",
     "text": [
      "label match check : True\n",
      "__________________________\n",
      "Manuel Check\n",
      "num :labels 17\n",
      "num: songs 17\n",
      "cello1\n",
      "cello1\n",
      "------\n",
      "clarinet1\n",
      "clarinet1\n",
      "------\n",
      "classic2\n",
      "classic2\n",
      "------\n",
      "classic3\n",
      "classic3\n",
      "------\n",
      "distguit1\n",
      "distguit1\n",
      "------\n",
      "guitar2\n",
      "guitar2\n",
      "------\n",
      "guitar3\n",
      "guitar3\n",
      "------\n",
      "jazz2\n",
      "jazz2\n",
      "------\n",
      "jazz3\n",
      "jazz3\n",
      "------\n",
      "piano1\n",
      "piano1\n",
      "------\n",
      "pop1\n",
      "pop1\n",
      "------\n",
      "rock1\n",
      "rock1\n",
      "------\n",
      "sax1\n",
      "sax1\n",
      "------\n",
      "synthbass1\n",
      "synthbass1\n",
      "------\n",
      "techno2\n",
      "techno2\n",
      "------\n",
      "trumpet1\n",
      "trumpet1\n",
      "------\n",
      "violin2\n",
      "violin2\n",
      "------\n"
     ]
    }
   ],
   "source": [
    "#Check labels & songs match\n",
    "print (\"label match check :\", labelMatchSongs())\n",
    "print(\"__________________________\")\n",
    "print(\"Manuel Check\")\n",
    "print(\"num :labels\",len(list_labels))\n",
    "print(\"num: songs\",len(list_of_songs))\n",
    "for i in range(len(list_of_songs)):\n",
    "    print(returnNameFile(list_of_songs[i]))\n",
    "    print(returnNameFile(list_labels[i]))\n",
    "    print(\"------\")\n",
    "\n"
   ]
  },
  {
   "cell_type": "code",
   "execution_count": 21,
   "metadata": {
    "ExecuteTime": {
     "end_time": "2020-12-28T19:19:52.007052Z",
     "start_time": "2020-12-28T19:19:51.983051Z"
    },
    "hidden": true
   },
   "outputs": [
    {
     "name": "stdout",
     "output_type": "stream",
     "text": [
      "30.14092970521542\n"
     ]
    }
   ],
   "source": [
    "#get duration of song \n",
    "print (lb.get_duration(filename=list_of_songs[1]))"
   ]
  },
  {
   "cell_type": "code",
   "execution_count": 22,
   "metadata": {
    "ExecuteTime": {
     "end_time": "2020-12-28T19:19:52.035624Z",
     "start_time": "2020-12-28T19:19:52.007052Z"
    },
    "hidden": true
   },
   "outputs": [],
   "source": [
    "#Question\n",
    "\n",
    "#Gives the appropriate frame of a time t relative to the sound number : \n",
    "#the second < duration_song\n",
    "#fromFourierToSecond \n",
    "def fromSecToFrame ( song_number, second ):\n",
    "    song_length=lb.get_duration(filename=list_of_songs[1])\n",
    "    if (second> song_length):\n",
    "        raise Exception (\"invalid label, offset after the end of the song\")\n",
    "    #float(hop_length)/sr # units of seconds\n",
    "    duration_frame= float(hop_length)/ data[song_number][1]\n",
    "    return int(second/duration_frame)\n",
    "\n"
   ]
  },
  {
   "cell_type": "code",
   "execution_count": 23,
   "metadata": {
    "ExecuteTime": {
     "end_time": "2020-12-28T19:19:52.051215Z",
     "start_time": "2020-12-28T19:19:52.035624Z"
    },
    "hidden": true
   },
   "outputs": [],
   "source": [
    "def fromSecToInputN (song_number,second):\n",
    "    n_frame= fromSecToFrame(song_number,second)\n",
    "    n_input=int(n_frame/15)\n",
    "    return n_frames[song_number]+n_input\n",
    "\n",
    "    "
   ]
  },
  {
   "cell_type": "code",
   "execution_count": 24,
   "metadata": {
    "ExecuteTime": {
     "end_time": "2020-12-28T19:19:55.102302Z",
     "start_time": "2020-12-28T19:19:52.051215Z"
    },
    "hidden": true
   },
   "outputs": [
    {
     "name": "stdout",
     "output_type": "stream",
     "text": [
      "-----------------------------------\n",
      "song  0  /  17\n",
      "label  1  /  61  sec 1.030398445092487  frame  103 input number 6.0\n",
      "label  2  /  61  sec 1.244830864352864  frame  124 input number 8.0\n",
      "label  3  /  61  sec 1.447968636355489  frame  145 input number 9.0\n",
      "label  4  /  61  sec 1.6493181758503017  frame  165 input number 11.0\n",
      "label  5  /  61  sec 1.8599925678986091  frame  186 input number 12.0\n",
      "label  6  /  61  sec 2.0318635343516918  frame  203 input number 13.0\n",
      "label  7  /  61  sec 2.223852774336837  frame  222 input number 14.0\n",
      "label  8  /  61  sec 2.436360321867013  frame  244 input number 16.0\n",
      "label  9  /  61  sec 2.637936859963229  frame  264 input number 17.0\n",
      "label  10  /  61  sec 2.820386715420705  frame  282 input number 18.0\n",
      "label  11  /  61  sec 3.0169445635958416  frame  302 input number 20.0\n",
      "label  12  /  61  sec 3.196406744925583  frame  320 input number 21.0\n",
      "label  13  /  61  sec 3.408664682760565  frame  341 input number 22.0\n",
      "label  14  /  61  sec 3.628446403719828  frame  363 input number 24.0\n",
      "label  15  /  61  sec 3.794464441349778  frame  380 input number 25.0\n",
      "label  16  /  61  sec 4.116401687741264  frame  412 input number 27.0\n",
      "label  17  /  61  sec 4.291312169966463  frame  430 input number 28.0\n",
      "label  18  /  61  sec 4.491782245542443  frame  450 input number 30.0\n",
      "label  19  /  61  sec 4.6539788040737315  frame  466 input number 31.0\n",
      "label  20  /  61  sec 4.87700033604905  frame  488 input number 32.0\n",
      "label  21  /  61  sec 5.094877548437526  frame  510 input number 34.0\n",
      "label  22  /  61  sec 5.19893495667776  frame  521 input number 34.0\n",
      "label  23  /  61  sec 5.417006081407171  frame  542 input number 36.0\n",
      "label  24  /  61  sec 5.668529332948215  frame  568 input number 37.0\n",
      "label  25  /  61  sec 5.87301684073014  frame  588 input number 39.0\n",
      "label  26  /  61  sec 6.0419867451290115  frame  605 input number 40.0\n",
      "label  27  /  61  sec 6.246431246689293  frame  626 input number 41.0\n",
      "label  28  /  61  sec 6.430931701822772  frame  644 input number 42.0\n",
      "label  29  /  61  sec 6.8195179233123575  frame  683 input number 45.0\n",
      "label  30  /  61  sec 7.047797329474107  frame  706 input number 47.0\n",
      "label  31  /  61  sec 7.273450400035185  frame  728 input number 48.0\n",
      "label  32  /  61  sec 7.4565784860918525  frame  747 input number 49.0\n",
      "label  33  /  61  sec 7.656326619557414  frame  767 input number 51.0\n",
      "label  34  /  61  sec 7.846624705221629  frame  786 input number 52.0\n",
      "label  35  /  61  sec 8.044270614406031  frame  806 input number 53.0\n",
      "label  36  /  61  sec 8.232814476177074  frame  825 input number 55.0\n",
      "label  37  /  61  sec 8.411629266487413  frame  843 input number 56.0\n",
      "label  38  /  61  sec 8.572401574258791  frame  859 input number 57.0\n",
      "label  39  /  61  sec 8.823446579019775  frame  884 input number 58.0\n",
      "label  40  /  61  sec 9.028104490726172  frame  904 input number 60.0\n",
      "label  41  /  61  sec 9.178471248982591  frame  919 input number 61.0\n",
      "label  42  /  61  sec 9.397219547695512  frame  941 input number 62.0\n",
      "label  43  /  61  sec 9.567441326028073  frame  958 input number 63.0\n",
      "label  44  /  61  sec 9.787751020976437  frame  980 input number 65.0\n",
      "label  45  /  61  sec 9.973927295056844  frame  999 input number 66.0\n",
      "label  46  /  61  sec 10.187607342515221  frame  1021 input number 68.0\n",
      "label  47  /  61  sec 10.41406303805419  frame  1043 input number 69.0\n",
      "label  48  /  61  sec 10.618819928898189  frame  1064 input number 70.0\n",
      "label  49  /  61  sec 10.811389772117288  frame  1083 input number 72.0\n",
      "label  50  /  61  sec 10.99105189381264  frame  1101 input number 73.0\n",
      "label  51  /  61  sec 11.152489102618551  frame  1117 input number 74.0\n",
      "label  52  /  61  sec 11.379322020797382  frame  1140 input number 76.0\n",
      "label  53  /  61  sec 11.568711582846301  frame  1159 input number 77.0\n",
      "label  54  /  61  sec 11.742197816140289  frame  1176 input number 78.0\n",
      "label  55  /  61  sec 11.98264335444407  frame  1200 input number 80.0\n",
      "label  56  /  61  sec 12.18244679259397  frame  1221 input number 81.0\n",
      "label  57  /  61  sec 12.395579574046009  frame  1242 input number 82.0\n",
      "label  58  /  61  sec 12.597470273228149  frame  1262 input number 84.0\n",
      "label  59  /  61  sec 12.77750737394681  frame  1280 input number 85.0\n",
      "label  60  /  61  sec 13.00622748912235  frame  1303 input number 86.0\n",
      "label  61  /  61  sec 13.238381154271961  frame  1326 input number 88.0\n",
      "-----------------------------------\n",
      "song  1  /  17\n",
      "label  1  /  35  sec 0.5928170578739103  frame  59 input number 97.0\n",
      "label  2  /  35  sec 0.849297256857139  frame  85 input number 99.0\n",
      "label  3  /  35  sec 1.139919455410773  frame  114 input number 101.0\n",
      "label  4  /  35  sec 1.357957436806738  frame  136 input number 103.0\n",
      "label  5  /  35  sec 1.742929956337522  frame  174 input number 105.0\n",
      "label  6  /  35  sec 2.220102912793168  frame  222 input number 108.0\n",
      "label  7  /  35  sec 2.5483043074350764  frame  255 input number 111.0\n",
      "label  8  /  35  sec 2.971089675772743  frame  297 input number 113.0\n",
      "label  9  /  35  sec 5.696681763689193  frame  570 input number 132.0\n",
      "label  10  /  35  sec 5.980462305404139  frame  599 input number 133.0\n",
      "label  11  /  35  sec 6.206193191363681  frame  622 input number 135.0\n",
      "label  12  /  35  sec 6.52942215089629  frame  654 input number 137.0\n",
      "label  13  /  35  sec 6.982228051441072  frame  699 input number 140.0\n",
      "label  14  /  35  sec 7.549551314331612  frame  756 input number 144.0\n",
      "label  15  /  35  sec 7.86624172223537  frame  788 input number 146.0\n",
      "label  16  /  35  sec 8.908172830072235  frame  892 input number 153.0\n",
      "label  17  /  35  sec 9.5483341219856  frame  957 input number 157.0\n",
      "label  18  /  35  sec 9.825990775142293  frame  984 input number 159.0\n",
      "label  19  /  35  sec 11.47071218240501  frame  1149 input number 170.0\n",
      "label  20  /  35  sec 11.92087381538851  frame  1194 input number 173.0\n",
      "label  21  /  35  sec 12.428463175525401  frame  1245 input number 177.0\n",
      "label  22  /  35  sec 12.918939914432258  frame  1294 input number 180.0\n",
      "label  23  /  35  sec 15.96417642199987  frame  1600 input number 200.0\n",
      "label  24  /  35  sec 17.32628357964974  frame  1736 input number 209.0\n",
      "label  25  /  35  sec 17.84231150206612  frame  1788 input number 213.0\n",
      "label  26  /  35  sec 19.319423128469232  frame  1936 input number 223.0\n",
      "label  27  /  35  sec 19.855621221627327  frame  1990 input number 226.0\n",
      "label  28  /  35  sec 21.27342750196877  frame  2132 input number 236.0\n",
      "label  29  /  35  sec 21.75615239933203  frame  2180 input number 239.0\n",
      "label  30  /  35  sec 23.269318170652628  frame  2332 input number 249.0\n",
      "label  31  /  35  sec 23.77422145427052  frame  2382 input number 252.0\n",
      "label  32  /  35  sec 25.13689879348846  frame  2519 input number 261.0\n",
      "label  33  /  35  sec 25.64944713751267  frame  2570 input number 265.0\n",
      "label  34  /  35  sec 27.01034641237208  frame  2707 input number 274.0\n",
      "label  35  /  35  sec 27.575329789737488  frame  2763 input number 278.0\n",
      "-----------------------------------\n",
      "song  2  /  17\n",
      "label  1  /  38  sec 0.010134085914025141  frame  1 input number 296.0\n",
      "label  2  /  38  sec 0.5527386503594917  frame  55 input number 299.0\n",
      "label  3  /  38  sec 0.9956769151456566  frame  99 input number 302.0\n",
      "label  4  /  38  sec 1.426560374016546  frame  142 input number 305.0\n",
      "label  5  /  38  sec 1.8383603785446319  frame  184 input number 308.0\n",
      "label  6  /  38  sec 2.2673939357236343  frame  227 input number 311.0\n",
      "label  7  /  38  sec 2.745416029208963  frame  275 input number 314.0\n",
      "label  8  /  38  sec 3.145078645330103  frame  315 input number 317.0\n",
      "label  9  /  38  sec 3.575122186443407  frame  358 input number 319.0\n",
      "label  10  /  38  sec 3.9834462963882213  frame  399 input number 322.0\n",
      "label  11  /  38  sec 4.423227372075496  frame  443 input number 325.0\n",
      "label  12  /  38  sec 4.851647715023905  frame  486 input number 328.0\n",
      "label  13  /  38  sec 5.303623048332722  frame  531 input number 331.0\n",
      "label  14  /  38  sec 6.181794430860023  frame  619 input number 337.0\n",
      "label  15  /  38  sec 6.588857740329899  frame  660 input number 340.0\n",
      "label  16  /  38  sec 7.44929864649025  frame  746 input number 345.0\n",
      "label  17  /  38  sec 8.263937547040996  frame  828 input number 351.0\n",
      "label  18  /  38  sec 8.685087000207226  frame  870 input number 354.0\n",
      "label  19  /  38  sec 9.097053232478766  frame  911 input number 356.0\n",
      "label  20  /  38  sec 9.547694437349305  frame  956 input number 359.0\n",
      "label  21  /  38  sec 9.981207718684598  frame  1000 input number 362.0\n",
      "label  22  /  38  sec 10.26606542685185  frame  1028 input number 364.0\n",
      "label  23  /  38  sec 10.459414490046  frame  1048 input number 365.0\n",
      "label  24  /  38  sec 10.92881441001432  frame  1095 input number 369.0\n",
      "label  25  /  38  sec 11.10053676694066  frame  1112 input number 370.0\n",
      "label  26  /  38  sec 11.86647223591896  frame  1189 input number 375.0\n",
      "label  27  /  38  sec 12.30042966973772  frame  1232 input number 378.0\n",
      "label  28  /  38  sec 13.13376188459315  frame  1316 input number 383.0\n",
      "label  29  /  38  sec 13.79993398061919  frame  1383 input number 388.0\n"
     ]
    },
    {
     "name": "stdout",
     "output_type": "stream",
     "text": [
      "label  30  /  38  sec 14.08039232508989  frame  1411 input number 390.0\n",
      "label  31  /  38  sec 14.91525944239333  frame  1494 input number 395.0\n",
      "label  32  /  38  sec 15.35857297690651  frame  1539 input number 398.0\n",
      "label  33  /  38  sec 15.801521141485061  frame  1583 input number 401.0\n",
      "label  34  /  38  sec 16.24841536821194  frame  1628 input number 404.0\n",
      "label  35  /  38  sec 16.710817365450662  frame  1674 input number 407.0\n",
      "label  36  /  38  sec 17.10010461870558  frame  1713 input number 410.0\n",
      "label  37  /  38  sec 17.591674851329838  frame  1763 input number 413.0\n",
      "label  38  /  38  sec 18.50395776692014  frame  1854 input number 419.0\n",
      "-----------------------------------\n",
      "song  3  /  17\n",
      "label  1  /  4  sec 5.897157460911977  frame  591 input number 469.0\n",
      "label  2  /  4  sec 7.601762554715831  frame  761 input number 480.0\n",
      "label  3  /  4  sec 7.967168734787066  frame  798 input number 483.0\n",
      "label  4  /  4  sec 10.53065880744656  frame  1055 input number 500.0\n",
      "-----------------------------------\n",
      "song  4  /  17\n",
      "label  1  /  19  sec 0.05026321691122509  frame  5 input number 529.0\n",
      "label  2  /  19  sec 0.2926245761703761  frame  29 input number 530.0\n",
      "label  3  /  19  sec 0.5097679883001635  frame  51 input number 532.0\n",
      "label  4  /  19  sec 0.7097308830359838  frame  71 input number 533.0\n",
      "label  5  /  19  sec 0.923102849917512  frame  92 input number 535.0\n",
      "label  6  /  19  sec 1.3501166509789453  frame  135 input number 538.0\n",
      "label  7  /  19  sec 1.778428645540491  frame  178 input number 540.0\n",
      "label  8  /  19  sec 1.9937474599857157  frame  199 input number 542.0\n",
      "label  9  /  19  sec 2.1931302844812413  frame  219 input number 543.0\n",
      "label  10  /  19  sec 2.614240445248401  frame  262 input number 546.0\n",
      "label  11  /  19  sec 3.505908657654153  frame  351 input number 552.0\n",
      "label  12  /  19  sec 3.74337244858966  frame  375 input number 554.0\n",
      "label  13  /  19  sec 3.9333092017505495  frame  394 input number 555.0\n",
      "label  14  /  19  sec 4.135800394371587  frame  414 input number 556.0\n",
      "label  15  /  19  sec 4.338619514682957  frame  434 input number 557.0\n",
      "label  16  /  19  sec 4.753909540439191  frame  476 input number 560.0\n",
      "label  17  /  19  sec 5.406764970671696  frame  541 input number 565.0\n",
      "label  18  /  19  sec 5.618979020607078  frame  563 input number 566.0\n",
      "label  19  /  19  sec 5.828919763147726  frame  584 input number 567.0\n",
      "-----------------------------------\n",
      "song  5  /  17\n",
      "label  1  /  36  sec 0.06706652113015027  frame  6 input number 570.0\n",
      "label  2  /  36  sec 0.6344933543438643  frame  63 input number 574.0\n",
      "label  3  /  36  sec 0.9628145747258496  frame  96 input number 576.0\n",
      "label  4  /  36  sec 1.172658164612648  frame  117 input number 577.0\n",
      "label  5  /  36  sec 1.459409922648609  frame  146 input number 579.0\n",
      "label  6  /  36  sec 1.636071981346297  frame  163 input number 580.0\n",
      "label  7  /  36  sec 1.968906267376432  frame  197 input number 583.0\n",
      "label  8  /  36  sec 2.186153359796643  frame  219 input number 584.0\n",
      "label  9  /  36  sec 3.172388972127012  frame  317 input number 591.0\n",
      "label  10  /  36  sec 3.534421334590897  frame  354 input number 593.0\n",
      "label  11  /  36  sec 3.73987491149071  frame  374 input number 594.0\n",
      "label  12  /  36  sec 4.051416146400469  frame  406 input number 597.0\n",
      "label  13  /  36  sec 4.270984380112826  frame  428 input number 598.0\n",
      "label  14  /  36  sec 4.594891501302411  frame  460 input number 600.0\n",
      "label  15  /  36  sec 4.740452289292397  frame  475 input number 601.0\n",
      "label  16  /  36  sec 5.088342479322014  frame  509 input number 603.0\n",
      "label  17  /  36  sec 5.26788518488731  frame  527 input number 605.0\n",
      "label  18  /  36  sec 5.8075286053426805  frame  582 input number 608.0\n",
      "label  19  /  36  sec 6.2842614409072315  frame  629 input number 611.0\n",
      "label  20  /  36  sec 6.805725760084687  frame  682 input number 615.0\n",
      "label  21  /  36  sec 7.126432598473582  frame  714 input number 617.0\n",
      "label  22  /  36  sec 7.8504158124549415  frame  786 input number 622.0\n",
      "label  23  /  36  sec 8.665531505671117  frame  868 input number 627.0\n",
      "label  24  /  36  sec 9.37129575754557  frame  939 input number 632.0\n",
      "label  25  /  36  sec 9.82898225372969  frame  985 input number 635.0\n",
      "label  26  /  36  sec 10.16764331298957  frame  1019 input number 637.0\n",
      "label  27  /  36  sec 10.95982065572469  frame  1098 input number 643.0\n",
      "label  28  /  36  sec 11.45529294476191  frame  1148 input number 646.0\n",
      "label  29  /  36  sec 11.98849512812598  frame  1201 input number 650.0\n",
      "label  30  /  36  sec 12.510725805992179  frame  1253 input number 653.0\n",
      "label  31  /  36  sec 12.6133146544781  frame  1264 input number 654.0\n",
      "label  32  /  36  sec 13.020106261607339  frame  1304 input number 656.0\n",
      "label  33  /  36  sec 13.36250595807121  frame  1339 input number 659.0\n",
      "label  34  /  36  sec 13.867679014052179  frame  1389 input number 662.0\n",
      "label  35  /  36  sec 14.111200295633152  frame  1414 input number 664.0\n",
      "label  36  /  36  sec 14.59521101186992  frame  1462 input number 667.0\n",
      "-----------------------------------\n",
      "song  6  /  17\n",
      "label  1  /  56  sec 0.05013038505422693  frame  5 input number 671.0\n",
      "label  2  /  56  sec 0.3172375938907955  frame  31 input number 673.0\n",
      "label  3  /  56  sec 0.5892340252453284  frame  59 input number 674.0\n",
      "label  4  /  56  sec 0.8336715727507608  frame  83 input number 676.0\n",
      "label  5  /  56  sec 1.091387245939736  frame  109 input number 678.0\n",
      "label  6  /  56  sec 1.361690547971665  frame  136 input number 680.0\n",
      "label  7  /  56  sec 1.609206172456719  frame  161 input number 681.0\n",
      "label  8  /  56  sec 1.866985944411904  frame  187 input number 683.0\n",
      "label  9  /  56  sec 2.1224996472087767  frame  212 input number 685.0\n",
      "label  10  /  56  sec 2.376217952879767  frame  238 input number 686.0\n",
      "label  11  /  56  sec 2.6410899475770497  frame  264 input number 688.0\n",
      "label  12  /  56  sec 2.9058777612013964  frame  291 input number 690.0\n",
      "label  13  /  56  sec 3.1790834683660867  frame  318 input number 692.0\n",
      "label  14  /  56  sec 3.420494176025719  frame  342 input number 693.0\n",
      "label  15  /  56  sec 3.672120928196113  frame  368 input number 695.0\n",
      "label  16  /  56  sec 3.9352526922682083  frame  394 input number 697.0\n",
      "label  17  /  56  sec 4.19437717116303  frame  420 input number 699.0\n",
      "label  18  /  56  sec 4.471017292715349  frame  448 input number 700.0\n",
      "label  19  /  56  sec 4.731454454608014  frame  474 input number 702.0\n",
      "label  20  /  56  sec 4.978663103451699  frame  498 input number 704.0\n",
      "label  21  /  56  sec 5.247327954360023  frame  525 input number 706.0\n",
      "label  22  /  56  sec 5.506700987310303  frame  551 input number 707.0\n",
      "label  23  /  56  sec 5.77365183608625  frame  578 input number 709.0\n",
      "label  24  /  56  sec 6.026010723303263  frame  603 input number 711.0\n",
      "label  25  /  56  sec 6.288254411869082  frame  630 input number 713.0\n",
      "label  26  /  56  sec 6.57313804567989  frame  658 input number 714.0\n",
      "label  27  /  56  sec 7.074231988265993  frame  709 input number 718.0\n",
      "label  28  /  56  sec 7.343285156489222  frame  735 input number 720.0\n",
      "label  29  /  56  sec 7.607087688277647  frame  762 input number 721.0\n",
      "label  30  /  56  sec 7.849854734057207  frame  786 input number 723.0\n",
      "label  31  /  56  sec 8.125171163100317  frame  814 input number 725.0\n",
      "label  32  /  56  sec 8.38050269328209  frame  839 input number 726.0\n",
      "label  33  /  56  sec 8.628092328523772  frame  864 input number 728.0\n",
      "label  34  /  56  sec 8.889719264397202  frame  890 input number 730.0\n",
      "label  35  /  56  sec 9.153024459892416  frame  917 input number 732.0\n",
      "label  36  /  56  sec 9.412810004835643  frame  943 input number 733.0\n",
      "label  37  /  56  sec 9.928588534813267  frame  995 input number 737.0\n",
      "label  38  /  56  sec 10.196121653689598  frame  1021 input number 739.0\n",
      "label  39  /  56  sec 10.450082834057008  frame  1047 input number 740.0\n",
      "label  40  /  56  sec 10.722068990293529  frame  1074 input number 742.0\n",
      "label  41  /  56  sec 10.96862789364519  frame  1099 input number 744.0\n",
      "label  42  /  56  sec 11.226554738032288  frame  1125 input number 746.0\n",
      "label  43  /  56  sec 11.48189569854651  frame  1150 input number 747.0\n",
      "label  44  /  56  sec 11.752257467674449  frame  1177 input number 749.0\n",
      "label  45  /  56  sec 12.01037389723104  frame  1203 input number 751.0\n",
      "label  46  /  56  sec 12.26152213185535  frame  1228 input number 752.0\n",
      "label  47  /  56  sec 12.52430533331509  frame  1255 input number 754.0\n",
      "label  48  /  56  sec 12.7957160801691  frame  1282 input number 756.0\n",
      "label  49  /  56  sec 13.05716289927567  frame  1308 input number 758.0\n",
      "label  50  /  56  sec 13.321400196792231  frame  1335 input number 760.0\n",
      "label  51  /  56  sec 13.577716373925641  frame  1360 input number 761.0\n",
      "label  52  /  56  sec 13.841963207489  frame  1387 input number 763.0\n",
      "label  53  /  56  sec 14.089526427436331  frame  1412 input number 765.0\n",
      "label  54  /  56  sec 14.356195343271382  frame  1438 input number 766.0\n",
      "label  55  /  56  sec 14.60188150276884  frame  1463 input number 768.0\n",
      "label  56  /  56  sec 14.891000813218891  frame  1492 input number 770.0\n",
      "-----------------------------------\n",
      "song  7  /  17\n",
      "label  1  /  47  sec 0.08975749070229679  frame  8 input number 772.0\n",
      "label  2  /  47  sec 0.9533096700719028  frame  95 input number 778.0\n",
      "label  3  /  47  sec 2.6170648470064704  frame  262 input number 789.0\n",
      "label  4  /  47  sec 3.4421589438137636  frame  344 input number 794.0\n"
     ]
    },
    {
     "name": "stdout",
     "output_type": "stream",
     "text": [
      "label  5  /  47  sec 3.6815790244975495  frame  368 input number 796.0\n",
      "label  6  /  47  sec 3.8811101162542254  frame  388 input number 797.0\n",
      "label  7  /  47  sec 4.065566630038581  frame  407 input number 799.0\n",
      "label  8  /  47  sec 4.471147749017251  frame  448 input number 801.0\n",
      "label  9  /  47  sec 4.6499766250666745  frame  466 input number 803.0\n",
      "label  10  /  47  sec 4.8400937535565  frame  485 input number 804.0\n",
      "label  11  /  47  sec 5.247418523712684  frame  525 input number 807.0\n",
      "label  12  /  47  sec 5.414686271211367  frame  542 input number 808.0\n",
      "label  13  /  47  sec 5.8314820534023655  frame  584 input number 810.0\n",
      "label  14  /  47  sec 6.006664186794528  frame  602 input number 812.0\n",
      "label  15  /  47  sec 6.251316113678717  frame  626 input number 813.0\n",
      "label  16  /  47  sec 6.430971408399287  frame  644 input number 814.0\n",
      "label  17  /  47  sec 6.6097493910565674  frame  662 input number 816.0\n",
      "label  18  /  47  sec 6.816720880073047  frame  683 input number 817.0\n",
      "label  19  /  47  sec 6.990856284544403  frame  700 input number 818.0\n",
      "label  20  /  47  sec 7.203330627854442  frame  721 input number 820.0\n",
      "label  21  /  47  sec 7.6008360007945726  frame  761 input number 822.0\n",
      "label  22  /  47  sec 7.969271692253088  frame  798 input number 825.0\n",
      "label  23  /  47  sec 8.375129256639843  frame  839 input number 827.0\n",
      "label  24  /  47  sec 8.556921913047223  frame  857 input number 829.0\n",
      "label  25  /  47  sec 8.694652512577822  frame  871 input number 830.0\n",
      "label  26  /  47  sec 8.9021227204508  frame  892 input number 831.0\n",
      "label  27  /  47  sec 9.309741329517234  frame  933 input number 834.0\n",
      "label  28  /  47  sec 9.666858054268472  frame  968 input number 836.0\n",
      "label  29  /  47  sec 10.14535883479816  frame  1016 input number 839.0\n",
      "label  30  /  47  sec 10.28297045347501  frame  1030 input number 840.0\n",
      "label  31  /  47  sec 10.520937555456179  frame  1054 input number 842.0\n",
      "label  32  /  47  sec 10.70503557576908  frame  1072 input number 843.0\n",
      "label  33  /  47  sec 10.889506661051538  frame  1091 input number 844.0\n",
      "label  34  /  47  sec 11.08381856645026  frame  1110 input number 846.0\n",
      "label  35  /  47  sec 11.267695037265131  frame  1129 input number 847.0\n",
      "label  36  /  47  sec 11.680352454714962  frame  1170 input number 850.0\n",
      "label  37  /  47  sec 11.86147353132255  frame  1188 input number 851.0\n",
      "label  38  /  47  sec 12.265965305087938  frame  1229 input number 853.0\n",
      "label  39  /  47  sec 12.43683869614039  frame  1246 input number 855.0\n",
      "label  40  /  47  sec 12.638656154632448  frame  1266 input number 856.0\n",
      "label  41  /  47  sec 12.80876861057502  frame  1283 input number 857.0\n",
      "label  42  /  47  sec 13.435951342942838  frame  1346 input number 861.0\n",
      "label  43  /  47  sec 13.853493340221428  frame  1388 input number 864.0\n",
      "label  44  /  47  sec 13.867383799419029  frame  1389 input number 864.0\n",
      "label  45  /  47  sec 14.17881671479868  frame  1421 input number 866.0\n",
      "label  46  /  47  sec 14.1896204052857  frame  1422 input number 866.0\n",
      "label  47  /  47  sec 14.38561473030757  frame  1441 input number 868.0\n",
      "-----------------------------------\n",
      "song  8  /  17\n",
      "label  1  /  53  sec 0.002186281170224214  frame  0 input number 871.0\n",
      "label  2  /  53  sec 0.8085300373541381  frame  81 input number 876.0\n",
      "label  3  /  53  sec 1.024684267214994  frame  102 input number 877.0\n",
      "label  4  /  53  sec 1.230392157216689  frame  123 input number 879.0\n",
      "label  5  /  53  sec 1.420840283664613  frame  142 input number 880.0\n",
      "label  6  /  53  sec 1.6142620902832219  frame  161 input number 881.0\n",
      "label  7  /  53  sec 1.8152692808550617  frame  181 input number 883.0\n",
      "label  8  /  53  sec 2.0126359279842747  frame  201 input number 884.0\n",
      "label  9  /  53  sec 2.2241859927572434  frame  222 input number 885.0\n",
      "label  10  /  53  sec 2.4088609165551813  frame  241 input number 887.0\n",
      "label  11  /  53  sec 2.633704117019843  frame  263 input number 888.0\n",
      "label  12  /  53  sec 2.822150933326887  frame  282 input number 889.0\n",
      "label  13  /  53  sec 2.9880424427964836  frame  299 input number 890.0\n",
      "label  14  /  53  sec 3.2173608468258763  frame  322 input number 892.0\n",
      "label  15  /  53  sec 3.4222989208199386  frame  343 input number 893.0\n",
      "label  16  /  53  sec 3.6019967599416076  frame  361 input number 895.0\n",
      "label  17  /  53  sec 3.8203914672487067  frame  382 input number 896.0\n",
      "label  18  /  53  sec 3.9853718915633887  frame  399 input number 897.0\n",
      "label  19  /  53  sec 4.385565798058656  frame  439 input number 900.0\n",
      "label  20  /  53  sec 4.576921643997674  frame  458 input number 901.0\n",
      "label  21  /  53  sec 4.787844560733736  frame  479 input number 902.0\n",
      "label  22  /  53  sec 4.97164364759648  frame  498 input number 904.0\n",
      "label  23  /  53  sec 4.993485756810778  frame  500 input number 904.0\n",
      "label  24  /  53  sec 5.196845018881807  frame  520 input number 905.0\n",
      "label  25  /  53  sec 5.4021097969354415  frame  541 input number 907.0\n",
      "label  26  /  53  sec 5.573685403009041  frame  558 input number 908.0\n",
      "label  27  /  53  sec 5.7934437978180835  frame  580 input number 909.0\n",
      "label  28  /  53  sec 5.988313627546077  frame  600 input number 911.0\n",
      "label  29  /  53  sec 6.209921076256869  frame  622 input number 912.0\n",
      "label  30  /  53  sec 6.399030474003105  frame  641 input number 913.0\n",
      "label  31  /  53  sec 6.6217476489734475  frame  663 input number 915.0\n",
      "label  32  /  53  sec 6.806182785250352  frame  682 input number 916.0\n",
      "label  33  /  53  sec 7.029979525269121  frame  704 input number 917.0\n",
      "label  34  /  53  sec 7.217018527873208  frame  723 input number 919.0\n",
      "label  35  /  53  sec 7.435024024728099  frame  745 input number 920.0\n",
      "label  36  /  53  sec 7.622117176645991  frame  763 input number 921.0\n",
      "label  37  /  53  sec 7.817672890782598  frame  783 input number 923.0\n",
      "label  38  /  53  sec 8.018630179457213  frame  803 input number 924.0\n",
      "label  39  /  53  sec 8.411175849419397  frame  843 input number 927.0\n",
      "label  40  /  53  sec 8.632695245581113  frame  865 input number 928.0\n",
      "label  41  /  53  sec 8.827160790443779  frame  884 input number 929.0\n",
      "label  42  /  53  sec 9.07755549329394  frame  909 input number 931.0\n",
      "label  43  /  53  sec 9.090140700497184  frame  911 input number 931.0\n",
      "label  44  /  53  sec 9.251460413418114  frame  927 input number 932.0\n",
      "label  45  /  53  sec 9.450879669510153  frame  947 input number 934.0\n",
      "label  46  /  53  sec 9.63604069993514  frame  965 input number 935.0\n",
      "label  47  /  53  sec 9.843088662664687  frame  986 input number 936.0\n",
      "label  48  /  53  sec 10.04740753112673  frame  1007 input number 938.0\n",
      "label  49  /  53  sec 10.269029223098151  frame  1029 input number 939.0\n",
      "label  50  /  53  sec 10.45856439005101  frame  1048 input number 940.0\n",
      "label  51  /  53  sec 10.66522160714096  frame  1068 input number 942.0\n",
      "label  52  /  53  sec 10.833413963890381  frame  1085 input number 943.0\n",
      "label  53  /  53  sec 10.84430044210973  frame  1086 input number 943.0\n",
      "-----------------------------------\n",
      "song  9  /  17\n",
      "label  1  /  19  sec 0.04170532921964359  frame  4 input number 945.0\n",
      "label  2  /  19  sec 0.2753651224773814  frame  27 input number 946.0\n",
      "label  3  /  19  sec 0.5939653070755391  frame  59 input number 948.0\n",
      "label  4  /  19  sec 2.521719202319812  frame  252 input number 961.0\n",
      "label  5  /  19  sec 3.891242138292299  frame  390 input number 971.0\n",
      "label  6  /  19  sec 4.162022533888353  frame  417 input number 972.0\n",
      "label  7  /  19  sec 4.4894108913810875  frame  449 input number 974.0\n",
      "label  8  /  19  sec 5.4432549571121704  frame  545 input number 981.0\n",
      "label  9  /  19  sec 6.5236361838476595  frame  653 input number 988.0\n",
      "label  10  /  19  sec 7.788066799118472  frame  780 input number 997.0\n",
      "label  11  /  19  sec 8.065526915567862  frame  808 input number 998.0\n",
      "label  12  /  19  sec 8.468397694921897  frame  848 input number 1001.0\n",
      "label  13  /  19  sec 9.723847868757694  frame  974 input number 1009.0\n",
      "label  14  /  19  sec 9.995733596841996  frame  1001 input number 1011.0\n",
      "label  15  /  19  sec 10.407590843925359  frame  1043 input number 1014.0\n",
      "label  16  /  19  sec 11.98139320485167  frame  1200 input number 1025.0\n",
      "label  17  /  19  sec 12.529713145726962  frame  1255 input number 1028.0\n",
      "label  18  /  19  sec 13.567841910571511  frame  1359 input number 1035.0\n",
      "label  19  /  19  sec 14.59260893195585  frame  1462 input number 1042.0\n",
      "-----------------------------------\n",
      "song  10  /  17\n",
      "label  1  /  27  sec 0.2052067997159025  frame  20 input number 1047.0\n",
      "label  2  /  27  sec 0.9253094495921104  frame  92 input number 1052.0\n",
      "label  3  /  27  sec 1.674611419067145  frame  167 input number 1057.0\n",
      "label  4  /  27  sec 2.06652029384867  frame  207 input number 1059.0\n",
      "label  5  /  27  sec 2.4238167304489435  frame  242 input number 1062.0\n",
      "label  6  /  27  sec 2.7764792751934646  frame  278 input number 1064.0\n",
      "label  7  /  27  sec 3.150834088910565  frame  315 input number 1067.0\n",
      "label  8  /  27  sec 3.556222276391753  frame  356 input number 1069.0\n",
      "label  9  /  27  sec 3.8682380984232583  frame  387 input number 1071.0\n",
      "label  10  /  27  sec 4.264920679555314  frame  427 input number 1074.0\n",
      "label  11  /  27  sec 4.622961201993881  frame  463 input number 1076.0\n",
      "label  12  /  27  sec 4.973264195498849  frame  498 input number 1079.0\n"
     ]
    },
    {
     "name": "stdout",
     "output_type": "stream",
     "text": [
      "label  13  /  27  sec 5.3015018319993015  frame  531 input number 1081.0\n",
      "label  14  /  27  sec 6.0398848815540145  frame  605 input number 1086.0\n",
      "label  15  /  27  sec 6.771211570486886  frame  678 input number 1091.0\n",
      "label  16  /  27  sec 7.500315799845967  frame  751 input number 1096.0\n",
      "label  17  /  27  sec 7.8675884047929765  frame  788 input number 1098.0\n",
      "label  18  /  27  sec 8.251031636454421  frame  826 input number 1101.0\n",
      "label  19  /  27  sec 8.60661406685056  frame  862 input number 1103.0\n",
      "label  20  /  27  sec 8.977847586070652  frame  899 input number 1105.0\n",
      "label  21  /  27  sec 9.724607568759065  frame  974 input number 1110.0\n",
      "label  22  /  27  sec 10.707358572990358  frame  1073 input number 1117.0\n",
      "label  23  /  27  sec 11.159725337331158  frame  1118 input number 1120.0\n",
      "label  24  /  27  sec 11.3131307336516  frame  1133 input number 1121.0\n",
      "label  25  /  27  sec 11.86994367541189  frame  1189 input number 1125.0\n",
      "label  26  /  27  sec 12.21625215808966  frame  1224 input number 1127.0\n",
      "label  27  /  27  sec 12.62177410937571  frame  1265 input number 1130.0\n",
      "-----------------------------------\n",
      "song  11  /  17\n",
      "label  1  /  59  sec 0.04985792689245312  frame  4 input number 1147.0\n",
      "label  2  /  59  sec 0.3500074134676734  frame  35 input number 1149.0\n",
      "label  3  /  59  sec 0.6299733654921039  frame  63 input number 1151.0\n",
      "label  4  /  59  sec 0.8236472214901607  frame  82 input number 1152.0\n",
      "label  5  /  59  sec 1.064008222409933  frame  106 input number 1154.0\n",
      "label  6  /  59  sec 1.31540910489374  frame  131 input number 1155.0\n",
      "label  7  /  59  sec 1.562183162977933  frame  156 input number 1157.0\n",
      "label  8  /  59  sec 1.8178187333525984  frame  182 input number 1159.0\n",
      "label  9  /  59  sec 2.071658894822961  frame  207 input number 1160.0\n",
      "label  10  /  59  sec 2.341626637171429  frame  234 input number 1162.0\n",
      "label  11  /  59  sec 2.6358738505830135  frame  264 input number 1164.0\n",
      "label  12  /  59  sec 2.845639552596355  frame  285 input number 1166.0\n",
      "label  13  /  59  sec 3.0792275888051184  frame  308 input number 1167.0\n",
      "label  14  /  59  sec 3.31846713311227  frame  332 input number 1169.0\n",
      "label  15  /  59  sec 3.574789489658162  frame  358 input number 1170.0\n",
      "label  16  /  59  sec 3.817813211802422  frame  382 input number 1172.0\n",
      "label  17  /  59  sec 4.0581502817754975  frame  406 input number 1174.0\n",
      "label  18  /  59  sec 4.62034779311696  frame  463 input number 1177.0\n",
      "label  19  /  59  sec 4.821155832946168  frame  483 input number 1179.0\n",
      "label  20  /  59  sec 5.07172326424899  frame  508 input number 1180.0\n",
      "label  21  /  59  sec 5.361583155557124  frame  537 input number 1182.0\n",
      "label  22  /  59  sec 5.574816304266406  frame  558 input number 1184.0\n",
      "label  23  /  59  sec 5.821982217049874  frame  583 input number 1185.0\n",
      "label  24  /  59  sec 6.119062960566821  frame  613 input number 1187.0\n",
      "label  25  /  59  sec 6.325492020583148  frame  633 input number 1189.0\n",
      "label  26  /  59  sec 6.576533947244035  frame  659 input number 1190.0\n",
      "label  27  /  59  sec 6.842692078835268  frame  685 input number 1192.0\n",
      "label  28  /  59  sec 7.095356832467528  frame  711 input number 1194.0\n",
      "label  29  /  59  sec 7.311645852434762  frame  732 input number 1195.0\n",
      "label  30  /  59  sec 8.07218990626431  frame  809 input number 1200.0\n",
      "label  31  /  59  sec 8.326299832579629  frame  834 input number 1202.0\n",
      "label  32  /  59  sec 8.633186087787504  frame  865 input number 1204.0\n",
      "label  33  /  59  sec 8.817861735196288  frame  883 input number 1205.0\n",
      "label  34  /  59  sec 9.100691873848008  frame  912 input number 1207.0\n",
      "label  35  /  59  sec 9.320612525033727  frame  934 input number 1209.0\n",
      "label  36  /  59  sec 9.58061455082376  frame  960 input number 1211.0\n",
      "label  37  /  59  sec 9.821320509027238  frame  984 input number 1212.0\n",
      "label  38  /  59  sec 10.07455900565839  frame  1009 input number 1214.0\n",
      "label  39  /  59  sec 10.32277253486956  frame  1034 input number 1215.0\n",
      "label  40  /  59  sec 10.59236389515755  frame  1061 input number 1217.0\n",
      "label  41  /  59  sec 10.83029499415221  frame  1085 input number 1219.0\n",
      "label  42  /  59  sec 11.09844773224831  frame  1112 input number 1221.0\n",
      "label  43  /  59  sec 11.32384277695387  frame  1134 input number 1222.0\n",
      "label  44  /  59  sec 11.579888394282479  frame  1160 input number 1224.0\n",
      "label  45  /  59  sec 11.821715300182431  frame  1184 input number 1225.0\n",
      "label  46  /  59  sec 12.072907522854461  frame  1210 input number 1227.0\n",
      "label  47  /  59  sec 12.332311757608759  frame  1236 input number 1229.0\n",
      "label  48  /  59  sec 12.585524811963232  frame  1261 input number 1231.0\n",
      "label  49  /  59  sec 12.829486368400751  frame  1285 input number 1232.0\n",
      "label  50  /  59  sec 13.094827569807439  frame  1312 input number 1234.0\n",
      "label  51  /  59  sec 13.34934831213977  frame  1337 input number 1236.0\n",
      "label  52  /  59  sec 13.588261879572382  frame  1361 input number 1237.0\n",
      "label  53  /  59  sec 13.8344643213939  frame  1386 input number 1239.0\n",
      "label  54  /  59  sec 14.106254349854892  frame  1413 input number 1241.0\n",
      "label  55  /  59  sec 14.335238884451359  frame  1436 input number 1242.0\n",
      "label  56  /  59  sec 14.591488946970868  frame  1462 input number 1244.0\n",
      "label  57  /  59  sec 14.83405070980357  frame  1486 input number 1246.0\n",
      "label  58  /  59  sec 15.086963680784109  frame  1512 input number 1247.0\n",
      "label  59  /  59  sec 15.318844340579679  frame  1535 input number 1249.0\n",
      "-----------------------------------\n",
      "song  12  /  17\n",
      "label  1  /  9  sec 0.4902027147153145  frame  49 input number 1254.0\n",
      "label  2  /  9  sec 1.055286125749822  frame  105 input number 1258.0\n",
      "label  3  /  9  sec 1.537959453638103  frame  154 input number 1261.0\n",
      "label  4  /  9  sec 5.6449932778729215  frame  565 input number 1288.0\n",
      "label  5  /  9  sec 6.199534696084531  frame  621 input number 1292.0\n",
      "label  6  /  9  sec 6.437409724607903  frame  645 input number 1294.0\n",
      "label  7  /  9  sec 6.869390901567273  frame  688 input number 1296.0\n",
      "label  8  /  9  sec 7.183027583433873  frame  719 input number 1298.0\n",
      "label  9  /  9  sec 8.181461341080096  frame  820 input number 1305.0\n",
      "-----------------------------------\n",
      "song  13  /  17\n",
      "label  1  /  23  sec 0.050947586934585835  frame  5 input number 1335.0\n",
      "label  2  /  23  sec 0.1501208646106191  frame  15 input number 1336.0\n",
      "label  3  /  23  sec 0.4007356165369907  frame  40 input number 1337.0\n",
      "label  4  /  23  sec 0.6484053422048962  frame  64 input number 1339.0\n",
      "label  5  /  23  sec 0.8971786217667703  frame  89 input number 1340.0\n",
      "label  6  /  23  sec 1.051435752143034  frame  105 input number 1342.0\n",
      "label  7  /  23  sec 1.150068588697797  frame  115 input number 1342.0\n",
      "label  8  /  23  sec 1.4002688948155129  frame  140 input number 1344.0\n",
      "label  9  /  23  sec 1.550483362986626  frame  155 input number 1345.0\n",
      "label  10  /  23  sec 1.7987574656667933  frame  180 input number 1347.0\n",
      "label  11  /  23  sec 2.800412396424516  frame  280 input number 1353.0\n",
      "label  12  /  23  sec 3.149594560633294  frame  315 input number 1356.0\n",
      "label  13  /  23  sec 3.398806897923274  frame  340 input number 1357.0\n",
      "label  14  /  23  sec 3.550366668286456  frame  355 input number 1358.0\n",
      "label  15  /  23  sec 4.148575598027271  frame  415 input number 1362.0\n",
      "label  16  /  23  sec 4.401501475245711  frame  441 input number 1364.0\n",
      "label  17  /  23  sec 4.899263684928335  frame  491 input number 1367.0\n",
      "label  18  /  23  sec 5.050614030111139  frame  506 input number 1368.0\n",
      "label  19  /  23  sec 5.148235986682402  frame  515 input number 1369.0\n",
      "label  20  /  23  sec 5.397413584316411  frame  540 input number 1371.0\n",
      "label  21  /  23  sec 5.5495138810207845  frame  556 input number 1372.0\n",
      "label  22  /  23  sec 5.80008432026973  frame  581 input number 1373.0\n",
      "label  23  /  23  sec 6.9020659521682415  frame  691 input number 1381.0\n",
      "-----------------------------------\n",
      "song  14  /  17\n",
      "label  1  /  56  sec 0.044879007813100134  frame  4 input number 1382.0\n",
      "label  2  /  56  sec 0.1608562783565662  frame  16 input number 1383.0\n",
      "label  3  /  56  sec 0.2629816913160243  frame  26 input number 1383.0\n",
      "label  4  /  56  sec 0.3638761252419902  frame  36 input number 1384.0\n",
      "label  5  /  56  sec 0.4761546764568529  frame  47 input number 1385.0\n"
     ]
    },
    {
     "name": "stdout",
     "output_type": "stream",
     "text": [
      "label  6  /  56  sec 0.596463638179442  frame  59 input number 1385.0\n",
      "label  7  /  56  sec 0.6878890893880683  frame  68 input number 1386.0\n",
      "label  8  /  56  sec 0.9057485315723152  frame  90 input number 1388.0\n",
      "label  9  /  56  sec 1.012847692841321  frame  101 input number 1388.0\n",
      "label  10  /  56  sec 1.121272857621325  frame  112 input number 1389.0\n",
      "label  11  /  56  sec 1.220553802552117  frame  122 input number 1390.0\n",
      "label  12  /  56  sec 1.332944698055184  frame  133 input number 1390.0\n",
      "label  13  /  56  sec 1.443619748314202  frame  144 input number 1391.0\n",
      "label  14  /  56  sec 1.5425948766750848  frame  154 input number 1392.0\n",
      "label  15  /  56  sec 1.7607539635011091  frame  176 input number 1393.0\n",
      "label  16  /  56  sec 1.871395442480221  frame  187 input number 1394.0\n",
      "label  17  /  56  sec 1.976544840808025  frame  198 input number 1395.0\n",
      "label  18  /  56  sec 2.0783367166614006  frame  208 input number 1395.0\n",
      "label  19  /  56  sec 2.190490377325223  frame  219 input number 1396.0\n",
      "label  20  /  56  sec 2.305993081617343  frame  231 input number 1397.0\n",
      "label  21  /  56  sec 2.4038647733995955  frame  240 input number 1398.0\n",
      "label  22  /  56  sec 2.6191978423339637  frame  262 input number 1399.0\n",
      "label  23  /  56  sec 2.732505213950414  frame  273 input number 1400.0\n",
      "label  24  /  56  sec 2.835641419449873  frame  284 input number 1400.0\n",
      "label  25  /  56  sec 2.934677342424866  frame  294 input number 1401.0\n",
      "label  26  /  56  sec 3.045885966234825  frame  305 input number 1402.0\n",
      "label  27  /  56  sec 3.1553119842184665  frame  316 input number 1403.0\n",
      "label  28  /  56  sec 3.262680054652503  frame  327 input number 1403.0\n",
      "label  29  /  56  sec 3.474988560761208  frame  348 input number 1405.0\n",
      "label  30  /  56  sec 3.5858955608385865  frame  359 input number 1405.0\n",
      "label  31  /  56  sec 3.693856612249016  frame  370 input number 1406.0\n",
      "label  32  /  56  sec 3.7926717155349334  frame  380 input number 1407.0\n",
      "label  33  /  56  sec 3.9051445970646204  frame  391 input number 1408.0\n",
      "label  34  /  56  sec 4.017448991719065  frame  402 input number 1408.0\n",
      "label  35  /  56  sec 4.11634704795704  frame  412 input number 1409.0\n",
      "label  36  /  56  sec 4.334227066797761  frame  434 input number 1410.0\n",
      "label  37  /  56  sec 4.449170657297848  frame  445 input number 1411.0\n",
      "label  38  /  56  sec 4.549518225257684  frame  455 input number 1412.0\n",
      "label  39  /  56  sec 4.652364534411718  frame  466 input number 1413.0\n",
      "label  40  /  56  sec 4.761364419186734  frame  477 input number 1413.0\n",
      "label  41  /  56  sec 4.874529711822613  frame  488 input number 1414.0\n",
      "label  42  /  56  sec 4.971310232031341  frame  498 input number 1415.0\n",
      "label  43  /  56  sec 5.192992563685338  frame  520 input number 1416.0\n",
      "label  44  /  56  sec 5.299092183269525  frame  531 input number 1417.0\n",
      "label  45  /  56  sec 5.406817836484289  frame  541 input number 1418.0\n",
      "label  46  /  56  sec 5.506377818561102  frame  551 input number 1418.0\n",
      "label  47  /  56  sec 5.616868066572704  frame  562 input number 1419.0\n",
      "label  48  /  56  sec 5.739242191589245  frame  575 input number 1420.0\n",
      "label  49  /  56  sec 5.829154787396012  frame  584 input number 1420.0\n",
      "label  50  /  56  sec 6.045668564519332  frame  605 input number 1422.0\n",
      "label  51  /  56  sec 6.1647089927501035  frame  617 input number 1423.0\n",
      "label  52  /  56  sec 6.26328682503742  frame  627 input number 1423.0\n",
      "label  53  /  56  sec 6.3632077552618265  frame  637 input number 1424.0\n",
      "label  54  /  56  sec 6.475021681190054  frame  648 input number 1425.0\n",
      "label  55  /  56  sec 6.580000506983283  frame  659 input number 1425.0\n",
      "label  56  /  56  sec 6.688523929766724  frame  670 input number 1426.0\n",
      "-----------------------------------\n",
      "song  15  /  17\n",
      "label  1  /  56  sec 0.4175334804520549  frame  41 input number 1430.0\n",
      "label  2  /  56  sec 0.6100128205820444  frame  61 input number 1432.0\n",
      "label  3  /  56  sec 0.6875877267711359  frame  68 input number 1432.0\n",
      "label  4  /  56  sec 0.9635025891072136  frame  96 input number 1434.0\n",
      "label  5  /  56  sec 1.2469647604584422  frame  124 input number 1436.0\n",
      "label  6  /  56  sec 1.521231571896278  frame  152 input number 1438.0\n",
      "label  7  /  56  sec 1.968079213316279  frame  197 input number 1441.0\n",
      "label  8  /  56  sec 2.086501628201852  frame  209 input number 1441.0\n",
      "label  9  /  56  sec 2.377403316102373  frame  238 input number 1443.0\n",
      "label  10  /  56  sec 4.452487849093903  frame  446 input number 1457.0\n",
      "label  11  /  56  sec 4.5426063381863795  frame  455 input number 1458.0\n",
      "label  12  /  56  sec 4.8256656572941035  frame  483 input number 1460.0\n",
      "label  13  /  56  sec 5.102040460984372  frame  511 input number 1462.0\n",
      "label  14  /  56  sec 5.387233736342057  frame  539 input number 1463.0\n",
      "label  15  /  56  sec 5.548899004430344  frame  556 input number 1465.0\n",
      "label  16  /  56  sec 5.8004074193285975  frame  581 input number 1466.0\n",
      "label  17  /  56  sec 5.929816681786543  frame  594 input number 1467.0\n",
      "label  18  /  56  sec 6.207816059148397  frame  622 input number 1469.0\n",
      "label  19  /  56  sec 7.238611154174959  frame  725 input number 1476.0\n",
      "label  20  /  56  sec 7.552999140305977  frame  757 input number 1478.0\n",
      "label  21  /  56  sec 7.848564115739262  frame  786 input number 1480.0\n",
      "label  22  /  56  sec 8.130061389911187  frame  814 input number 1482.0\n",
      "label  23  /  56  sec 8.305588058776904  frame  832 input number 1483.0\n",
      "label  24  /  56  sec 8.408378011403201  frame  842 input number 1484.0\n",
      "label  25  /  56  sec 8.576458840432615  frame  859 input number 1485.0\n",
      "label  26  /  56  sec 8.692426984658589  frame  871 input number 1486.0\n",
      "label  27  /  56  sec 8.849883276222302  frame  886 input number 1487.0\n",
      "label  28  /  56  sec 9.099960382214926  frame  912 input number 1488.0\n",
      "label  29  /  56  sec 9.209316490493544  frame  923 input number 1489.0\n",
      "label  30  /  56  sec 9.355848895335313  frame  937 input number 1490.0\n",
      "label  31  /  56  sec 9.472594838870636  frame  949 input number 1491.0\n",
      "label  32  /  56  sec 9.65684374734106  frame  967 input number 1492.0\n",
      "label  33  /  56  sec 10.03426512006657  frame  1005 input number 1495.0\n",
      "label  34  /  56  sec 10.3474214145936  frame  1037 input number 1497.0\n",
      "label  35  /  56  sec 10.46651563851009  frame  1049 input number 1497.0\n",
      "label  36  /  56  sec 10.727050422963341  frame  1075 input number 1499.0\n",
      "label  37  /  56  sec 10.875851772031929  frame  1090 input number 1500.0\n",
      "label  38  /  56  sec 11.140203981330359  frame  1116 input number 1502.0\n",
      "label  39  /  56  sec 11.24542773628175  frame  1127 input number 1503.0\n",
      "label  40  /  56  sec 11.39433178650725  frame  1142 input number 1504.0\n",
      "label  41  /  56  sec 11.498994819022881  frame  1152 input number 1504.0\n",
      "label  42  /  56  sec 11.70068040745588  frame  1172 input number 1506.0\n",
      "label  43  /  56  sec 12.290609877788231  frame  1231 input number 1510.0\n",
      "label  44  /  56  sec 12.45896274213629  frame  1248 input number 1511.0\n",
      "label  45  /  56  sec 12.57374496747793  frame  1260 input number 1512.0\n",
      "label  46  /  56  sec 12.85146787251517  frame  1288 input number 1513.0\n",
      "label  47  /  56  sec 13.00252805024045  frame  1303 input number 1514.0\n",
      "label  48  /  56  sec 13.26272278852594  frame  1329 input number 1516.0\n",
      "label  49  /  56  sec 13.37699011692672  frame  1340 input number 1517.0\n",
      "label  50  /  56  sec 13.52032584786403  frame  1355 input number 1518.0\n",
      "label  51  /  56  sec 13.63612261843417  frame  1366 input number 1519.0\n",
      "label  52  /  56  sec 13.805115175777471  frame  1383 input number 1520.0\n",
      "label  53  /  56  sec 14.11750966495137  frame  1414 input number 1522.0\n",
      "label  54  /  56  sec 14.437969361429289  frame  1447 input number 1524.0\n",
      "label  55  /  56  sec 14.61184704703021  frame  1464 input number 1525.0\n",
      "label  56  /  56  sec 14.86271429798592  frame  1489 input number 1527.0\n",
      "-----------------------------------\n",
      "song  16  /  17\n",
      "label  1  /  73  sec 0.008181218685583691  frame  0 input number 1529.0\n",
      "label  2  /  73  sec 0.4901227170666185  frame  49 input number 1532.0\n",
      "label  3  /  73  sec 0.6189476290022337  frame  62 input number 1533.0\n",
      "label  4  /  73  sec 0.7423838642676456  frame  74 input number 1533.0\n",
      "label  5  /  73  sec 0.8498191169124091  frame  85 input number 1534.0\n",
      "label  6  /  73  sec 0.9726634477631714  frame  97 input number 1535.0\n",
      "label  7  /  73  sec 1.0863843201755101  frame  108 input number 1536.0\n",
      "label  8  /  73  sec 1.5162282662804951  frame  151 input number 1539.0\n",
      "label  9  /  73  sec 1.6176232655280158  frame  162 input number 1539.0\n",
      "label  10  /  73  sec 1.724747794546338  frame  172 input number 1540.0\n"
     ]
    },
    {
     "name": "stdout",
     "output_type": "stream",
     "text": [
      "label  11  /  73  sec 1.856911123769319  frame  186 input number 1541.0\n",
      "label  12  /  73  sec 2.098696987215676  frame  210 input number 1543.0\n",
      "label  13  /  73  sec 2.5138163111022385  frame  251 input number 1545.0\n",
      "label  14  /  73  sec 2.6028938159555506  frame  260 input number 1546.0\n",
      "label  15  /  73  sec 2.731199761116622  frame  273 input number 1547.0\n",
      "label  16  /  73  sec 2.852263945514506  frame  285 input number 1548.0\n",
      "label  17  /  73  sec 2.9919733555752903  frame  299 input number 1548.0\n",
      "label  18  /  73  sec 3.092936900690157  frame  309 input number 1549.0\n",
      "label  19  /  73  sec 3.639159852849335  frame  364 input number 1553.0\n",
      "label  20  /  73  sec 4.331476023416632  frame  434 input number 1557.0\n",
      "label  21  /  73  sec 4.790307243750153  frame  480 input number 1561.0\n",
      "label  22  /  73  sec 4.893634853634463  frame  490 input number 1561.0\n",
      "label  23  /  73  sec 5.023007595331754  frame  503 input number 1562.0\n",
      "label  24  /  73  sec 5.126838654696804  frame  513 input number 1563.0\n",
      "label  25  /  73  sec 5.245358138510898  frame  525 input number 1564.0\n",
      "label  26  /  73  sec 5.3682780119008475  frame  538 input number 1564.0\n",
      "label  27  /  73  sec 5.800084379689075  frame  581 input number 1567.0\n",
      "label  28  /  73  sec 5.901099278218662  frame  591 input number 1568.0\n",
      "label  29  /  73  sec 6.020633652291028  frame  603 input number 1569.0\n",
      "label  30  /  73  sec 6.156560834824891  frame  617 input number 1570.0\n",
      "label  31  /  73  sec 6.260894137422419  frame  627 input number 1570.0\n",
      "label  32  /  73  sec 6.358928016109287  frame  637 input number 1571.0\n",
      "label  33  /  73  sec 6.796991898709831  frame  681 input number 1574.0\n",
      "label  34  /  73  sec 6.913767936671443  frame  692 input number 1575.0\n",
      "label  35  /  73  sec 6.999543017482187  frame  701 input number 1575.0\n",
      "label  36  /  73  sec 7.108820564276231  frame  712 input number 1576.0\n",
      "label  37  /  73  sec 7.241705892240584  frame  725 input number 1577.0\n",
      "label  38  /  73  sec 7.360322592630268  frame  737 input number 1578.0\n",
      "label  39  /  73  sec 8.572277806540146  frame  859 input number 1586.0\n",
      "label  40  /  73  sec 9.012246292612168  frame  903 input number 1589.0\n",
      "label  41  /  73  sec 9.1172811435883  frame  913 input number 1589.0\n",
      "label  42  /  73  sec 9.242863115813511  frame  926 input number 1590.0\n",
      "label  43  /  73  sec 9.347687659360991  frame  936 input number 1591.0\n",
      "label  44  /  73  sec 9.590655647734515  frame  961 input number 1593.0\n",
      "label  45  /  73  sec 9.997273051666602  frame  1001 input number 1595.0\n",
      "label  46  /  73  sec 10.0974207868742  frame  1012 input number 1596.0\n",
      "label  47  /  73  sec 10.204416451454039  frame  1022 input number 1597.0\n",
      "label  48  /  73  sec 10.32931701144281  frame  1035 input number 1598.0\n",
      "label  49  /  73  sec 10.439022694966699  frame  1046 input number 1598.0\n",
      "label  50  /  73  sec 10.55527854207733  frame  1057 input number 1599.0\n",
      "label  51  /  73  sec 10.943348634601259  frame  1096 input number 1602.0\n",
      "label  52  /  73  sec 11.06974155827465  frame  1109 input number 1602.0\n",
      "label  53  /  73  sec 11.16538320554188  frame  1119 input number 1603.0\n",
      "label  54  /  73  sec 11.266628072216498  frame  1129 input number 1604.0\n",
      "label  55  /  73  sec 11.38216454481584  frame  1140 input number 1605.0\n",
      "label  56  /  73  sec 11.520405934898529  frame  1154 input number 1605.0\n",
      "label  57  /  73  sec 11.921207636695119  frame  1194 input number 1608.0\n",
      "label  58  /  73  sec 12.02423056336993  frame  1205 input number 1609.0\n",
      "label  59  /  73  sec 12.25692808171252  frame  1228 input number 1610.0\n",
      "label  60  /  73  sec 12.3718153497045  frame  1239 input number 1611.0\n",
      "label  61  /  73  sec 12.48701832828961  frame  1251 input number 1612.0\n",
      "label  62  /  73  sec 12.88544564291975  frame  1291 input number 1615.0\n",
      "label  63  /  73  sec 13.006408577906859  frame  1303 input number 1615.0\n",
      "label  64  /  73  sec 13.111073344508961  frame  1314 input number 1616.0\n",
      "label  65  /  73  sec 13.23844916732033  frame  1326 input number 1617.0\n",
      "label  66  /  73  sec 13.341082186971441  frame  1337 input number 1618.0\n",
      "label  67  /  73  sec 13.469966691869349  frame  1350 input number 1619.0\n",
      "label  68  /  73  sec 13.85911105578011  frame  1389 input number 1621.0\n",
      "label  69  /  73  sec 13.977260816746963  frame  1400 input number 1622.0\n",
      "label  70  /  73  sec 14.1970707428917  frame  1422 input number 1623.0\n",
      "label  71  /  73  sec 14.312082337966121  frame  1434 input number 1624.0\n",
      "label  72  /  73  sec 14.454506902198329  frame  1448 input number 1625.0\n",
      "label  73  /  73  sec 14.84543486860146  frame  1487 input number 1628.0\n",
      "(1630, 1)\n"
     ]
    }
   ],
   "source": [
    "#2d List : label_fin[n_song]: contains the frames where an onset occurs\n",
    "\n",
    "label_f=np.zeros((n_inputs,1))\n",
    "for i in range(n_song):\n",
    "    print(\"-----------------------------------\")\n",
    "    print (\"song \",i,\" / \", n_song)\n",
    "    for j in range (len(label[i].iloc[0])):\n",
    "        print (\"label \",j+1,\" / \",len(label[i].iloc[0]), \" sec\",label[i].iloc[0][j], \n",
    "               \" frame \",fromSecToFrame(i,label[i].iloc[0][j]),\n",
    "        \"input number\", fromSecToInputN(i,label[i].iloc[0][j]))\n",
    "        label_f[int(fromSecToInputN(i,label[i].iloc[0][j]))]=int(1)\n",
    "print(label_f.shape)"
   ]
  },
  {
   "cell_type": "markdown",
   "metadata": {
    "heading_collapsed": true
   },
   "source": [
    "### Validation Set \n"
   ]
  },
  {
   "cell_type": "code",
   "execution_count": 25,
   "metadata": {
    "ExecuteTime": {
     "end_time": "2020-12-28T19:19:55.134302Z",
     "start_time": "2020-12-28T19:19:55.102302Z"
    },
    "hidden": true
   },
   "outputs": [
    {
     "name": "stdout",
     "output_type": "stream",
     "text": [
      "(1630, 3, 80, 15)\n",
      "(1630, 1)\n"
     ]
    },
    {
     "data": {
      "text/plain": [
       "(((1467, 3, 80, 15), (1467, 1)), ((163, 3, 80, 15), (163, 1)))"
      ]
     },
     "execution_count": 25,
     "metadata": {},
     "output_type": "execute_result"
    }
   ],
   "source": [
    "# create validation set\n",
    "print( train_img_f.shape)\n",
    "print(label_f.shape)\n",
    "\n",
    "#should add a test set \n",
    "train_x, val_x, train_y, val_y = train_test_split(train_img_f, label_f, test_size = 0.1)\n",
    "(train_x.shape, train_y.shape), (val_x.shape, val_y.shape) #add shapes "
   ]
  },
  {
   "cell_type": "code",
   "execution_count": 26,
   "metadata": {
    "ExecuteTime": {
     "end_time": "2020-12-28T19:19:55.150297Z",
     "start_time": "2020-12-28T19:19:55.134302Z"
    },
    "hidden": true,
    "scrolled": true
   },
   "outputs": [
    {
     "data": {
      "text/plain": [
       "(torch.Size([1467, 3, 80, 15]), torch.Size([1467, 1]))"
      ]
     },
     "execution_count": 26,
     "metadata": {},
     "output_type": "execute_result"
    }
   ],
   "source": [
    "# converting training images into torch format\n",
    "train_x  = torch.from_numpy(train_x).float()\n",
    "#.type(torch.LongTensor)\n",
    "\n",
    "\n",
    "# converting the target into torch format\n",
    "train_y = torch.from_numpy(train_y).float()\n",
    "#.type(torch.LongTensor)\n",
    "\n",
    "\n",
    "# shape of training data\n",
    "train_x.shape, train_y.shape"
   ]
  },
  {
   "cell_type": "code",
   "execution_count": 27,
   "metadata": {
    "ExecuteTime": {
     "end_time": "2020-12-28T19:19:55.215815Z",
     "start_time": "2020-12-28T19:19:55.150297Z"
    },
    "hidden": true
   },
   "outputs": [
    {
     "name": "stdout",
     "output_type": "stream",
     "text": [
      "tensor([[[[-10.4274, -10.8810,  -9.5674,  ..., -11.1315,  -9.6026,  -8.6859],\n",
      "          [-10.3103, -12.4197,  -9.5694,  ..., -10.5694, -10.2342,  -9.0787],\n",
      "          [-11.1161, -13.1166, -10.8174,  ..., -12.0322, -12.1173, -10.8340],\n",
      "          ...,\n",
      "          [-18.9614, -19.0442, -18.6044,  ..., -16.0439, -15.4865, -16.1556],\n",
      "          [-19.5983, -19.1950, -19.0216,  ..., -15.8432, -16.3661, -15.9078],\n",
      "          [-20.4816, -20.8459, -20.1058,  ..., -16.9837, -17.5486, -16.7257]],\n",
      "\n",
      "         [[ -9.3467,  -9.3315,  -8.9880,  ...,  -9.7862,  -8.3141,  -8.1384],\n",
      "          [ -9.5940, -10.1906,  -9.3352,  ..., -10.0883,  -9.6274,  -8.9616],\n",
      "          [-10.9556, -11.0667, -10.9529,  ..., -11.9915, -11.7877, -11.0673],\n",
      "          ...,\n",
      "          [-18.2802, -18.1170, -17.8399,  ..., -15.2082, -15.0078, -15.1685],\n",
      "          [-18.6524, -18.5256, -18.2750,  ..., -15.2800, -15.3834, -15.3643],\n",
      "          [-19.7692, -19.9192, -19.3409,  ..., -16.3925, -16.4378, -16.2612]],\n",
      "\n",
      "         [[ -8.3417,  -8.4342,  -8.5937,  ...,  -8.3245,  -7.8737,  -7.7809],\n",
      "          [ -8.9494,  -8.9974,  -9.1225,  ...,  -9.1698,  -8.9497,  -8.7829],\n",
      "          [-10.6444, -10.5106, -10.4877,  ..., -11.1754, -10.8810, -10.6550],\n",
      "          ...,\n",
      "          [-17.4243, -17.2968, -16.9846,  ..., -14.4790, -14.4405, -14.4464],\n",
      "          [-17.8187, -17.5943, -16.9417,  ..., -14.7094, -14.6881, -14.7810],\n",
      "          [-18.9752, -18.7493, -17.9789,  ..., -15.8189, -15.7154, -15.7377]]],\n",
      "\n",
      "\n",
      "        [[[ -2.1797,  -2.1774,  -2.1830,  ...,  -2.1132,  -2.4912,  -3.2669],\n",
      "          [  0.2710,   0.2411,   0.1893,  ...,   0.0899,  -0.0569,  -0.3308],\n",
      "          [  0.7695,   0.9810,   0.6598,  ...,   0.4123,   0.4289,   0.4356],\n",
      "          ...,\n",
      "          [-17.5291, -17.6416, -18.0597,  ..., -18.4427, -18.4785, -18.1705],\n",
      "          [-18.1874, -18.0692, -18.3455,  ..., -18.0948, -18.2964, -18.0386],\n",
      "          [-20.7206, -19.7916, -20.1092,  ..., -19.5286, -19.6669, -19.4974]],\n",
      "\n",
      "         [[ -4.4865,  -4.8875,  -4.8448,  ...,  -4.6575,  -4.4417,  -3.8632],\n",
      "          [  0.7677,   0.6593,   0.7240,  ...,   0.5289,   0.3355,   0.2065],\n",
      "          [  1.8037,   1.8100,   1.6988,  ...,   1.5141,   1.4934,   1.4881],\n",
      "          ...,\n",
      "          [-17.0256, -17.0060, -17.1772,  ..., -17.7081, -17.6591, -17.4589],\n",
      "          [-17.6423, -17.5117, -17.6041,  ..., -17.4007, -17.5537, -17.3954],\n",
      "          [-19.4945, -19.3048, -19.4059,  ..., -18.7240, -18.8915, -18.8652]],\n",
      "\n",
      "         [[ -4.1745,  -4.2121,  -4.0785,  ...,  -4.1875,  -4.1083,  -3.9494],\n",
      "          [  1.2377,   1.2092,   1.1694,  ...,   0.8779,   0.8801,   0.9257],\n",
      "          [  2.6167,   2.5874,   2.5518,  ...,   2.3262,   2.3200,   2.3170],\n",
      "          ...,\n",
      "          [-16.4186, -16.4242, -16.5004,  ..., -16.9299, -16.8697, -16.7224],\n",
      "          [-16.8955, -16.9107, -16.9398,  ..., -16.7919, -16.7417, -16.6706],\n",
      "          [-18.7446, -18.7009, -18.6353,  ..., -18.1359, -18.1558, -18.2459]]],\n",
      "\n",
      "\n",
      "        [[[-10.9691,  -9.1929, -10.0404,  ..., -10.1782,  -9.8778, -10.2008],\n",
      "          [-11.2732,  -9.3390,  -9.9985,  ..., -10.6378, -10.3334, -10.8284],\n",
      "          [-11.6535, -11.1806, -10.6316,  ..., -11.3051, -11.0204, -10.7295],\n",
      "          ...,\n",
      "          [-14.5154, -15.0284, -14.4424,  ..., -15.6761, -15.2376, -15.9784],\n",
      "          [-14.9730, -14.7074, -15.0664,  ..., -16.1900, -15.7130, -16.1016],\n",
      "          [-17.4236, -17.1428, -16.9396,  ..., -17.5149, -16.7904, -17.8087]],\n",
      "\n",
      "         [[ -9.5533,  -8.6620,  -8.9184,  ...,  -9.2565,  -9.2039,  -9.2494],\n",
      "          [-10.2448,  -9.1375,  -9.5238,  ...,  -9.9505,  -9.6586, -10.3334],\n",
      "          [-12.4027, -11.6455, -11.7699,  ..., -12.9299, -12.8015, -11.9998],\n",
      "          ...,\n",
      "          [-13.9475, -14.0431, -13.9637,  ..., -14.6332, -14.7825, -14.7901],\n",
      "          [-14.2627, -14.0295, -14.2113,  ..., -15.3922, -15.1426, -14.9058],\n",
      "          [-16.7548, -16.3819, -16.1329,  ..., -16.7039, -16.3981, -16.4518]],\n",
      "\n",
      "         [[ -8.4358,  -8.2774,  -8.3754,  ...,  -8.3597,  -8.4343,  -8.4604],\n",
      "          [ -9.0869,  -8.9834,  -9.1176,  ...,  -9.3711,  -9.4224,  -9.5863],\n",
      "          [-12.1819, -11.8950, -11.8969,  ..., -12.5019, -12.1900, -11.7510],\n",
      "          ...,\n",
      "          [-13.2262, -13.2937, -13.3185,  ..., -13.7000, -13.9389, -14.0027],\n",
      "          [-13.5770, -13.5162, -13.5600,  ..., -14.5424, -14.3789, -14.1792],\n",
      "          [-15.7758, -15.6671, -15.4957,  ..., -15.8069, -15.7912, -15.7757]]],\n",
      "\n",
      "\n",
      "        ...,\n",
      "\n",
      "\n",
      "        [[[ -5.8399,  -5.1691,  -5.8626,  ...,  -5.9758,  -6.2715,  -7.4505],\n",
      "          [ -6.8512,  -7.0848,  -7.7333,  ...,  -7.0928,  -7.3486,  -7.7261],\n",
      "          [ -7.4009,  -6.7433,  -8.0372,  ...,  -8.7323,  -8.0280,  -6.9675],\n",
      "          ...,\n",
      "          [ -8.2146,  -8.4714,  -9.0687,  ..., -10.4799, -10.0383, -10.0339],\n",
      "          [ -9.1061,  -8.9937,  -9.2375,  ..., -11.2217, -10.5004,  -9.8981],\n",
      "          [-10.4410, -10.4638, -11.3393,  ..., -12.7222, -11.8865, -11.4473]],\n",
      "\n",
      "         [[ -5.1915,  -5.2613,  -5.1700,  ...,  -5.3868,  -5.6152,  -6.8055],\n",
      "          [ -6.1621,  -6.9863,  -6.3872,  ...,  -6.5568,  -6.6315,  -7.3765],\n",
      "          [ -6.5425,  -6.4488,  -6.6677,  ...,  -7.1737,  -7.2935,  -6.8739],\n",
      "          ...,\n",
      "          [ -7.6483,  -7.8861,  -8.2593,  ...,  -9.4636,  -9.4409,  -8.9206],\n",
      "          [ -8.3138,  -8.4297,  -8.5067,  ..., -10.1313,  -9.7627,  -9.1000],\n",
      "          [ -9.8306, -10.0366, -10.0932,  ..., -11.6899, -11.1832, -10.5915]],\n",
      "\n",
      "         [[ -4.6665,  -4.6176,  -4.5136,  ...,  -4.9744,  -5.1290,  -5.4813],\n",
      "          [ -5.6277,  -5.7148,  -5.7222,  ...,  -6.1415,  -6.2276,  -6.5844],\n",
      "          [ -5.9211,  -5.8739,  -5.9122,  ...,  -6.0964,  -6.2862,  -6.1837],\n",
      "          ...,\n",
      "          [ -7.0392,  -7.2399,  -7.5003,  ...,  -8.4724,  -8.3496,  -7.9058],\n",
      "          [ -7.5024,  -7.7164,  -7.8987,  ...,  -8.8384,  -8.7321,  -8.4016],\n",
      "          [ -9.2180,  -9.3009,  -9.3879,  ..., -10.6692, -10.2175,  -9.7334]]],\n",
      "\n",
      "\n",
      "        [[[ -4.1220,  -5.3838,  -3.8017,  ...,  -6.0076,  -4.2725,  -5.6158],\n",
      "          [ -3.0868,  -3.8052,  -4.0301,  ...,  -4.2983,  -4.3492,  -4.3788],\n",
      "          [ -3.4523,  -2.3030,  -3.8032,  ...,  -2.3140,  -3.4043,  -2.6803],\n",
      "          ...,\n",
      "          [-14.6575, -14.9242, -14.1276,  ..., -14.6558, -15.6688, -15.2104],\n",
      "          [-15.2667, -14.7826, -14.9223,  ..., -15.2930, -15.8002, -15.1505],\n",
      "          [-16.5168, -16.2544, -16.9016,  ..., -16.9127, -17.0768, -16.3811]],\n",
      "\n",
      "         [[ -4.1416,  -3.8384,  -3.5160,  ...,  -3.9627,  -3.8941,  -4.2479],\n",
      "          [ -2.8075,  -3.1535,  -2.8750,  ...,  -3.8165,  -3.9332,  -4.4100],\n",
      "          [ -2.2188,  -2.1747,  -2.8885,  ...,  -2.4014,  -2.7682,  -2.4975],\n",
      "          ...,\n",
      "          [-13.9860, -13.9465, -13.6347,  ..., -14.0713, -14.6819, -14.6256],\n",
      "          [-14.4023, -14.1510, -14.2010,  ..., -14.4614, -14.8492, -14.7282],\n",
      "          [-15.4538, -15.7196, -16.0869,  ..., -16.0868, -16.1749, -16.0212]],\n",
      "\n",
      "         [[ -3.2896,  -3.2353,  -3.3024,  ...,  -3.0179,  -3.1302,  -3.1126],\n",
      "          [ -2.2001,  -2.2492,  -2.2227,  ...,  -3.0112,  -3.3969,  -3.6838],\n",
      "          [ -1.7455,  -1.7650,  -1.8518,  ...,  -2.0853,  -2.1135,  -2.0453],\n",
      "          ...,\n",
      "          [-13.2526, -13.1199, -12.9465,  ..., -13.5194, -13.6700, -13.6610],\n",
      "          [-13.5991, -13.5544, -13.5293,  ..., -13.8408, -13.9503, -14.0214],\n",
      "          [-14.7366, -14.9952, -15.2197,  ..., -15.3533, -15.4254, -15.5377]]],\n",
      "\n",
      "\n",
      "        [[[ -5.6625,  -5.7942,  -6.1692,  ...,  -6.6284,  -5.8935,  -6.0339],\n",
      "          [ -3.4511,  -5.6356,  -5.0128,  ...,  -5.1313,  -4.8268,  -5.8421],\n",
      "          [ -2.9421,  -4.3980,  -5.4320,  ...,  -4.4765,  -3.3487,  -4.5362],\n",
      "          ...,\n",
      "          [ -9.1782,  -8.5847,  -8.3966,  ...,  -7.9682,  -7.7847,  -8.0819],\n",
      "          [-10.1037, -10.3358, -10.0621,  ...,  -8.4643,  -9.2149,  -8.8163],\n",
      "          [-11.3629, -12.5277, -12.2635,  ..., -10.1468, -11.4360, -10.9878]],\n",
      "\n",
      "         [[ -5.4056,  -4.9534,  -5.6319,  ...,  -5.7630,  -5.3140,  -5.6028],\n",
      "          [ -3.2610,  -4.1613,  -4.4696,  ...,  -4.3052,  -5.2974,  -5.2137],\n",
      "          [ -2.2411,  -2.9458,  -4.0763,  ...,  -2.7399,  -3.2485,  -3.9234],\n",
      "          ...,\n",
      "          [ -8.4863,  -7.9543,  -7.6137,  ...,  -7.3508,  -7.1285,  -7.4913],\n",
      "          [ -9.5191,  -9.4526,  -9.2182,  ...,  -7.9542,  -8.3402,  -8.2545],\n",
      "          [-10.7375, -11.5857, -11.3265,  ...,  -9.7120, -10.3499, -10.2891]],\n",
      "\n",
      "         [[ -4.6905,  -4.6588,  -4.8506,  ...,  -4.8395,  -4.8598,  -4.9322],\n",
      "          [ -3.1054,  -3.2924,  -3.6719,  ...,  -3.5302,  -4.0780,  -4.2837],\n",
      "          [ -2.0077,  -2.0748,  -2.1392,  ...,  -2.1591,  -2.4975,  -2.9710],\n",
      "          ...,\n",
      "          [ -7.6522,  -7.2823,  -7.0866,  ...,  -6.7443,  -6.7042,  -6.8927],\n",
      "          [ -8.8572,  -8.6918,  -8.5492,  ...,  -7.2953,  -7.4653,  -7.6624],\n",
      "          [-10.3098, -10.3917, -10.3759,  ...,  -9.2898,  -9.4051,  -9.6024]]]])\n"
     ]
    }
   ],
   "source": [
    "#check for nan\n",
    "print(train_x)\n"
   ]
  },
  {
   "cell_type": "code",
   "execution_count": 28,
   "metadata": {
    "ExecuteTime": {
     "end_time": "2020-12-28T19:19:55.233635Z",
     "start_time": "2020-12-28T19:19:55.217635Z"
    },
    "hidden": true
   },
   "outputs": [
    {
     "name": "stdout",
     "output_type": "stream",
     "text": [
      "tensor([[0.],\n",
      "        [0.],\n",
      "        [0.],\n",
      "        ...,\n",
      "        [1.],\n",
      "        [0.],\n",
      "        [0.]])\n"
     ]
    }
   ],
   "source": [
    "print(train_y)"
   ]
  },
  {
   "cell_type": "code",
   "execution_count": 29,
   "metadata": {
    "ExecuteTime": {
     "end_time": "2020-12-28T19:19:55.258928Z",
     "start_time": "2020-12-28T19:19:55.233635Z"
    },
    "hidden": true
   },
   "outputs": [
    {
     "data": {
      "text/plain": [
       "(torch.Size([163, 3, 80, 15]), torch.Size([163, 1]))"
      ]
     },
     "execution_count": 29,
     "metadata": {},
     "output_type": "execute_result"
    }
   ],
   "source": [
    "# converting validation images into torch format\n",
    "val_x  = torch.from_numpy(val_x).float()\n",
    "\n",
    "# converting the target into torch format\n",
    "val_y = torch.from_numpy(val_y).float()\n",
    "\n",
    "# shape of validation data\n",
    "val_x.shape, val_y.shape"
   ]
  },
  {
   "cell_type": "code",
   "execution_count": 30,
   "metadata": {
    "ExecuteTime": {
     "end_time": "2020-12-28T19:19:55.315789Z",
     "start_time": "2020-12-28T19:19:55.258928Z"
    },
    "hidden": true
   },
   "outputs": [
    {
     "name": "stdout",
     "output_type": "stream",
     "text": [
      "tensor([[[[-3.6682e+00, -3.2675e+00, -4.4691e+00,  ..., -2.6633e+00,\n",
      "           -2.3104e+00, -3.1461e+00],\n",
      "          [-1.5619e+00, -1.4712e+00, -1.6703e+00,  ..., -2.9308e-01,\n",
      "           -1.1337e-01, -3.5231e-01],\n",
      "          [-7.1886e-01, -1.1771e+00, -8.2808e-01,  ...,  3.4313e-01,\n",
      "            3.4214e-01,  1.6936e-01],\n",
      "          ...,\n",
      "          [-1.8151e+01, -1.8759e+01, -1.8306e+01,  ..., -1.8130e+01,\n",
      "           -1.8546e+01, -1.8064e+01],\n",
      "          [-1.8612e+01, -1.8952e+01, -1.8333e+01,  ..., -1.8051e+01,\n",
      "           -1.8527e+01, -1.8975e+01],\n",
      "          [-2.0321e+01, -2.0484e+01, -2.0456e+01,  ..., -2.0601e+01,\n",
      "           -2.0346e+01, -2.1146e+01]],\n",
      "\n",
      "         [[-3.8454e+00, -3.4176e+00, -3.6415e+00,  ..., -3.7194e+00,\n",
      "           -3.8334e+00, -3.6326e+00],\n",
      "          [-1.2487e+00, -1.1583e+00, -1.1784e+00,  ...,  4.7641e-02,\n",
      "            2.7556e-01,  2.5573e-01],\n",
      "          [ 1.0531e-01,  1.6068e-02,  3.5429e-01,  ...,  1.2461e+00,\n",
      "            1.3094e+00,  1.3401e+00],\n",
      "          ...,\n",
      "          [-1.7370e+01, -1.7826e+01, -1.7728e+01,  ..., -1.7598e+01,\n",
      "           -1.7637e+01, -1.7634e+01],\n",
      "          [-1.7847e+01, -1.8026e+01, -1.7645e+01,  ..., -1.7458e+01,\n",
      "           -1.7858e+01, -1.8239e+01],\n",
      "          [-1.9779e+01, -1.9655e+01, -1.9397e+01,  ..., -1.9757e+01,\n",
      "           -1.9765e+01, -1.9932e+01]],\n",
      "\n",
      "         [[-2.9939e+00, -2.8915e+00, -2.8612e+00,  ..., -2.7682e+00,\n",
      "           -2.9233e+00, -3.0237e+00],\n",
      "          [-6.6816e-01, -7.5006e-01, -6.4844e-01,  ...,  5.2589e-01,\n",
      "            6.6933e-01,  7.7814e-01],\n",
      "          [ 1.0054e+00,  1.0541e+00,  1.2105e+00,  ...,  2.0064e+00,\n",
      "            2.1077e+00,  2.1869e+00],\n",
      "          ...,\n",
      "          [-1.6674e+01, -1.6871e+01, -1.6980e+01,  ..., -1.7004e+01,\n",
      "           -1.6982e+01, -1.7007e+01],\n",
      "          [-1.7050e+01, -1.7100e+01, -1.7037e+01,  ..., -1.6963e+01,\n",
      "           -1.7130e+01, -1.7404e+01],\n",
      "          [-1.8987e+01, -1.8844e+01, -1.8659e+01,  ..., -1.9059e+01,\n",
      "           -1.9113e+01, -1.9185e+01]]],\n",
      "\n",
      "\n",
      "        [[[-3.8864e+00, -4.7284e+00, -3.9366e+00,  ..., -3.0829e+00,\n",
      "           -4.2449e+00, -3.7048e+00],\n",
      "          [-1.8604e+00, -1.9030e+00, -1.9254e+00,  ..., -1.3192e+00,\n",
      "           -1.6472e+00, -1.6409e+00],\n",
      "          [-1.3255e+00, -1.0744e+00, -1.4303e+00,  ..., -1.0455e+00,\n",
      "           -8.7911e-01, -1.0327e+00],\n",
      "          ...,\n",
      "          [-1.6876e+01, -1.7253e+01, -1.7690e+01,  ..., -1.7807e+01,\n",
      "           -1.8730e+01, -1.8482e+01],\n",
      "          [-1.7374e+01, -1.7590e+01, -1.7437e+01,  ..., -1.8524e+01,\n",
      "           -1.9286e+01, -1.8954e+01],\n",
      "          [-1.9591e+01, -1.9226e+01, -1.9508e+01,  ..., -2.0225e+01,\n",
      "           -2.0914e+01, -2.0069e+01]],\n",
      "\n",
      "         [[-3.9849e+00, -4.2168e+00, -3.9673e+00,  ..., -3.4740e+00,\n",
      "           -3.5371e+00, -3.5189e+00],\n",
      "          [-1.5446e+00, -1.3853e+00, -1.5012e+00,  ..., -1.0889e+00,\n",
      "           -1.0704e+00, -1.1799e+00],\n",
      "          [-3.1608e-01, -1.4543e-01, -3.2338e-01,  ..., -3.7303e-02,\n",
      "            1.0650e-01, -3.4263e-02],\n",
      "          ...,\n",
      "          [-1.6373e+01, -1.6562e+01, -1.6874e+01,  ..., -1.7234e+01,\n",
      "           -1.7651e+01, -1.7589e+01],\n",
      "          [-1.6705e+01, -1.6797e+01, -1.6880e+01,  ..., -1.7945e+01,\n",
      "           -1.8320e+01, -1.8253e+01],\n",
      "          [-1.8658e+01, -1.8572e+01, -1.8794e+01,  ..., -1.9527e+01,\n",
      "           -1.9841e+01, -1.9553e+01]],\n",
      "\n",
      "         [[-3.1170e+00, -3.2066e+00, -3.1777e+00,  ..., -2.7502e+00,\n",
      "           -2.7368e+00, -2.7588e+00],\n",
      "          [-1.0728e+00, -1.0505e+00, -1.0625e+00,  ..., -6.8214e-01,\n",
      "           -6.7050e-01, -7.1591e-01],\n",
      "          [ 4.7030e-01,  5.4326e-01,  5.7174e-01,  ...,  7.7605e-01,\n",
      "            8.0232e-01,  7.6295e-01],\n",
      "          ...,\n",
      "          [-1.5821e+01, -1.5922e+01, -1.6160e+01,  ..., -1.6649e+01,\n",
      "           -1.6758e+01, -1.6803e+01],\n",
      "          [-1.6010e+01, -1.6109e+01, -1.6311e+01,  ..., -1.7258e+01,\n",
      "           -1.7433e+01, -1.7531e+01],\n",
      "          [-1.7807e+01, -1.7972e+01, -1.8214e+01,  ..., -1.8791e+01,\n",
      "           -1.8883e+01, -1.8843e+01]]],\n",
      "\n",
      "\n",
      "        [[[-1.1753e+01, -1.0865e+01, -1.4202e+01,  ..., -1.0930e+01,\n",
      "           -1.1814e+01, -9.7010e+00],\n",
      "          [-1.0692e+01, -1.0884e+01, -1.3158e+01,  ..., -1.2279e+01,\n",
      "           -1.2384e+01, -9.1196e+00],\n",
      "          [-1.1706e+01, -1.1965e+01, -1.3866e+01,  ..., -1.2048e+01,\n",
      "           -1.1939e+01, -9.1572e+00],\n",
      "          ...,\n",
      "          [-1.9652e+01, -1.9306e+01, -2.0016e+01,  ..., -1.5048e+01,\n",
      "           -1.4669e+01, -1.5832e+01],\n",
      "          [-2.0389e+01, -2.0083e+01, -1.9569e+01,  ..., -1.4671e+01,\n",
      "           -1.4813e+01, -1.5956e+01],\n",
      "          [-2.1739e+01, -2.1381e+01, -2.0823e+01,  ..., -1.6211e+01,\n",
      "           -1.6395e+01, -1.7682e+01]],\n",
      "\n",
      "         [[-1.0673e+01, -1.0736e+01, -1.2190e+01,  ..., -1.0871e+01,\n",
      "           -1.0746e+01, -9.1046e+00],\n",
      "          [-9.6290e+00, -1.0101e+01, -1.1235e+01,  ..., -1.1832e+01,\n",
      "           -1.0034e+01, -8.0834e+00],\n",
      "          [-1.1806e+01, -1.2026e+01, -1.2970e+01,  ..., -1.2067e+01,\n",
      "           -1.0532e+01, -8.9080e+00],\n",
      "          ...,\n",
      "          [-1.8831e+01, -1.8859e+01, -1.9159e+01,  ..., -1.3757e+01,\n",
      "           -1.4236e+01, -1.4913e+01],\n",
      "          [-1.9431e+01, -1.9224e+01, -1.9143e+01,  ..., -1.3686e+01,\n",
      "           -1.4314e+01, -1.5096e+01],\n",
      "          [-2.1025e+01, -2.0560e+01, -2.0427e+01,  ..., -1.5481e+01,\n",
      "           -1.5943e+01, -1.6672e+01]],\n",
      "\n",
      "         [[-1.0376e+01, -1.0538e+01, -1.0791e+01,  ..., -1.0036e+01,\n",
      "           -9.3160e+00, -8.8202e+00],\n",
      "          [-8.8056e+00, -9.2795e+00, -9.8593e+00,  ..., -9.2497e+00,\n",
      "           -8.0692e+00, -7.3904e+00],\n",
      "          [-1.1587e+01, -1.2064e+01, -1.2612e+01,  ..., -1.0099e+01,\n",
      "           -9.2595e+00, -8.8855e+00],\n",
      "          ...,\n",
      "          [-1.8164e+01, -1.8229e+01, -1.8295e+01,  ..., -1.3015e+01,\n",
      "           -1.3450e+01, -1.4053e+01],\n",
      "          [-1.8605e+01, -1.8593e+01, -1.8644e+01,  ..., -1.3053e+01,\n",
      "           -1.3478e+01, -1.4099e+01],\n",
      "          [-2.0229e+01, -2.0034e+01, -2.0036e+01,  ..., -1.4764e+01,\n",
      "           -1.5182e+01, -1.5747e+01]]],\n",
      "\n",
      "\n",
      "        ...,\n",
      "\n",
      "\n",
      "        [[[-1.2989e+01, -1.3855e+01, -1.4283e+01,  ..., -9.7810e+00,\n",
      "           -1.0829e+01, -1.1660e+01],\n",
      "          [-1.2258e+01, -1.2495e+01, -1.3284e+01,  ..., -9.3885e+00,\n",
      "           -1.0014e+01, -1.0581e+01],\n",
      "          [-1.2212e+01, -1.2776e+01, -1.2894e+01,  ..., -1.0245e+01,\n",
      "           -1.0792e+01, -1.1613e+01],\n",
      "          ...,\n",
      "          [-1.3717e+01, -1.4118e+01, -1.3768e+01,  ..., -1.9542e+01,\n",
      "           -1.9545e+01, -2.0360e+01],\n",
      "          [-1.4291e+01, -1.4101e+01, -1.3997e+01,  ..., -1.9577e+01,\n",
      "           -1.9430e+01, -2.0169e+01],\n",
      "          [-1.6128e+01, -1.5158e+01, -1.5533e+01,  ..., -2.1198e+01,\n",
      "           -2.1063e+01, -2.1624e+01]],\n",
      "\n",
      "         [[-1.2903e+01, -1.3757e+01, -1.3790e+01,  ..., -9.6873e+00,\n",
      "           -1.0304e+01, -1.1002e+01],\n",
      "          [-1.1590e+01, -1.2460e+01, -1.3440e+01,  ..., -8.6828e+00,\n",
      "           -8.8996e+00, -9.4893e+00],\n",
      "          [-1.2416e+01, -1.2391e+01, -1.3269e+01,  ..., -1.0327e+01,\n",
      "           -1.0800e+01, -1.1423e+01],\n",
      "          ...,\n",
      "          [-1.3254e+01, -1.3203e+01, -1.3080e+01,  ..., -1.7119e+01,\n",
      "           -1.9022e+01, -1.9333e+01],\n",
      "          [-1.3682e+01, -1.3384e+01, -1.3311e+01,  ..., -1.7404e+01,\n",
      "           -1.8870e+01, -1.9347e+01],\n",
      "          [-1.5285e+01, -1.4635e+01, -1.4687e+01,  ..., -1.8937e+01,\n",
      "           -2.0564e+01, -2.0858e+01]],\n",
      "\n",
      "         [[-1.1863e+01, -1.2441e+01, -1.2559e+01,  ..., -9.7207e+00,\n",
      "           -9.8418e+00, -1.0246e+01],\n",
      "          [-1.1075e+01, -1.1424e+01, -1.1999e+01,  ..., -8.2792e+00,\n",
      "           -8.2620e+00, -8.5376e+00],\n",
      "          [-1.2054e+01, -1.2090e+01, -1.2157e+01,  ..., -1.0269e+01,\n",
      "           -1.0549e+01, -1.0931e+01],\n",
      "          ...,\n",
      "          [-1.2683e+01, -1.2480e+01, -1.2321e+01,  ..., -1.5716e+01,\n",
      "           -1.6691e+01, -1.7844e+01],\n",
      "          [-1.2961e+01, -1.2779e+01, -1.2694e+01,  ..., -1.5980e+01,\n",
      "           -1.6912e+01, -1.8073e+01],\n",
      "          [-1.4490e+01, -1.4204e+01, -1.4141e+01,  ..., -1.7481e+01,\n",
      "           -1.8455e+01, -1.9609e+01]]],\n",
      "\n",
      "\n",
      "        [[[-1.0704e+01, -1.0090e+01, -8.9235e+00,  ..., -9.1840e+00,\n",
      "           -9.7393e+00, -8.7891e+00],\n",
      "          [-1.2438e+01, -1.2231e+01, -9.5225e+00,  ..., -1.1146e+01,\n",
      "           -1.0107e+01, -9.4094e+00],\n",
      "          [-1.3559e+01, -1.2960e+01, -1.1686e+01,  ..., -1.2428e+01,\n",
      "           -1.1973e+01, -1.1533e+01],\n",
      "          ...,\n",
      "          [-1.4504e+01, -1.3724e+01, -1.3539e+01,  ..., -1.0835e+01,\n",
      "           -1.0924e+01, -1.1225e+01],\n",
      "          [-1.5260e+01, -1.4663e+01, -1.4007e+01,  ..., -1.0330e+01,\n",
      "           -1.0395e+01, -1.0858e+01],\n",
      "          [-1.4566e+01, -1.4632e+01, -1.5848e+01,  ..., -1.4373e+01,\n",
      "           -1.4941e+01, -1.5033e+01]],\n",
      "\n",
      "         [[-1.0613e+01, -9.0894e+00, -8.0405e+00,  ..., -8.7077e+00,\n",
      "           -8.4177e+00, -8.1571e+00],\n",
      "          [-1.1671e+01, -1.0423e+01, -9.5672e+00,  ..., -1.1125e+01,\n",
      "           -9.6891e+00, -9.2887e+00],\n",
      "          [-1.3766e+01, -1.2994e+01, -1.2975e+01,  ..., -1.2376e+01,\n",
      "           -1.2849e+01, -1.2211e+01],\n",
      "          ...,\n",
      "          [-1.3358e+01, -1.3117e+01, -1.2853e+01,  ..., -1.0143e+01,\n",
      "           -1.0306e+01, -1.0455e+01],\n",
      "          [-1.3963e+01, -1.3938e+01, -1.3309e+01,  ..., -9.6278e+00,\n",
      "           -9.7857e+00, -1.0067e+01],\n",
      "          [-1.3894e+01, -1.4058e+01, -1.4811e+01,  ..., -1.3775e+01,\n",
      "           -1.4122e+01, -1.4264e+01]],\n",
      "\n",
      "         [[-8.5484e+00, -8.0730e+00, -7.8127e+00,  ..., -7.7261e+00,\n",
      "           -7.6934e+00, -7.6274e+00],\n",
      "          [-9.9116e+00, -9.7117e+00, -9.5582e+00,  ..., -9.5088e+00,\n",
      "           -9.3635e+00, -9.2970e+00],\n",
      "          [-1.3185e+01, -1.2949e+01, -1.2789e+01,  ..., -1.1842e+01,\n",
      "           -1.1891e+01, -1.1596e+01],\n",
      "          ...,\n",
      "          [-1.2199e+01, -1.2350e+01, -1.2359e+01,  ..., -9.5466e+00,\n",
      "           -9.6093e+00, -9.7332e+00],\n",
      "          [-1.2683e+01, -1.2885e+01, -1.2829e+01,  ..., -9.0543e+00,\n",
      "           -9.1406e+00, -9.3435e+00],\n",
      "          [-1.3234e+01, -1.3481e+01, -1.3640e+01,  ..., -1.3231e+01,\n",
      "           -1.3317e+01, -1.3402e+01]]],\n",
      "\n",
      "\n",
      "        [[[-1.1816e+01, -1.2033e+01, -1.2454e+01,  ..., -1.2033e+01,\n",
      "           -1.3366e+01, -1.2096e+01],\n",
      "          [-1.2150e+01, -1.3064e+01, -1.4114e+01,  ..., -1.4120e+01,\n",
      "           -1.3977e+01, -1.3771e+01],\n",
      "          [-1.2760e+01, -1.3499e+01, -1.3040e+01,  ..., -1.4192e+01,\n",
      "           -1.4466e+01, -1.5043e+01],\n",
      "          ...,\n",
      "          [-1.3992e+01, -1.4735e+01, -1.5817e+01,  ..., -1.5540e+01,\n",
      "           -1.8642e+01, -1.6872e+01],\n",
      "          [-1.4744e+01, -1.5616e+01, -1.5481e+01,  ..., -1.5496e+01,\n",
      "           -1.8219e+01, -1.7449e+01],\n",
      "          [-1.7119e+01, -1.6692e+01, -1.6938e+01,  ..., -1.7909e+01,\n",
      "           -1.9026e+01, -1.8736e+01]],\n",
      "\n",
      "         [[-1.1427e+01, -1.1652e+01, -1.1870e+01,  ..., -1.1856e+01,\n",
      "           -1.2304e+01, -1.2149e+01],\n",
      "          [-1.1659e+01, -1.2869e+01, -1.3591e+01,  ..., -1.3560e+01,\n",
      "           -1.3371e+01, -1.3156e+01],\n",
      "          [-1.3160e+01, -1.3584e+01, -1.4117e+01,  ..., -1.4292e+01,\n",
      "           -1.4647e+01, -1.3717e+01],\n",
      "          ...,\n",
      "          [-1.3450e+01, -1.4053e+01, -1.4861e+01,  ..., -1.5289e+01,\n",
      "           -1.6083e+01, -1.6042e+01],\n",
      "          [-1.4165e+01, -1.4783e+01, -1.4875e+01,  ..., -1.5233e+01,\n",
      "           -1.6131e+01, -1.6741e+01],\n",
      "          [-1.6210e+01, -1.6125e+01, -1.6256e+01,  ..., -1.7328e+01,\n",
      "           -1.8017e+01, -1.7836e+01]],\n",
      "\n",
      "         [[-1.1018e+01, -1.1126e+01, -1.1461e+01,  ..., -1.1664e+01,\n",
      "           -1.1826e+01, -1.2085e+01],\n",
      "          [-1.1382e+01, -1.1730e+01, -1.2400e+01,  ..., -1.2837e+01,\n",
      "           -1.2649e+01, -1.2475e+01],\n",
      "          [-1.2662e+01, -1.2927e+01, -1.3188e+01,  ..., -1.3940e+01,\n",
      "           -1.3576e+01, -1.3232e+01],\n",
      "          ...,\n",
      "          [-1.3000e+01, -1.3293e+01, -1.3613e+01,  ..., -1.4615e+01,\n",
      "           -1.4880e+01, -1.4676e+01],\n",
      "          [-1.3680e+01, -1.3871e+01, -1.4062e+01,  ..., -1.4737e+01,\n",
      "           -1.5050e+01, -1.5102e+01],\n",
      "          [-1.5467e+01, -1.5522e+01, -1.5604e+01,  ..., -1.6511e+01,\n",
      "           -1.6733e+01, -1.6410e+01]]]])\n"
     ]
    }
   ],
   "source": [
    "print(val_x)"
   ]
  },
  {
   "cell_type": "code",
   "execution_count": 31,
   "metadata": {
    "ExecuteTime": {
     "end_time": "2020-12-28T19:19:55.339788Z",
     "start_time": "2020-12-28T19:19:55.315789Z"
    },
    "hidden": true
   },
   "outputs": [
    {
     "name": "stdout",
     "output_type": "stream",
     "text": [
      "tensor([[0.],\n",
      "        [0.],\n",
      "        [1.],\n",
      "        [0.],\n",
      "        [0.],\n",
      "        [0.],\n",
      "        [0.],\n",
      "        [1.],\n",
      "        [0.],\n",
      "        [1.],\n",
      "        [0.],\n",
      "        [0.],\n",
      "        [0.],\n",
      "        [0.],\n",
      "        [0.],\n",
      "        [0.],\n",
      "        [0.],\n",
      "        [1.],\n",
      "        [0.],\n",
      "        [0.],\n",
      "        [0.],\n",
      "        [1.],\n",
      "        [1.],\n",
      "        [0.],\n",
      "        [0.],\n",
      "        [0.],\n",
      "        [0.],\n",
      "        [0.],\n",
      "        [0.],\n",
      "        [1.],\n",
      "        [0.],\n",
      "        [0.],\n",
      "        [0.],\n",
      "        [1.],\n",
      "        [1.],\n",
      "        [0.],\n",
      "        [0.],\n",
      "        [0.],\n",
      "        [0.],\n",
      "        [0.],\n",
      "        [1.],\n",
      "        [0.],\n",
      "        [0.],\n",
      "        [1.],\n",
      "        [0.],\n",
      "        [0.],\n",
      "        [1.],\n",
      "        [0.],\n",
      "        [1.],\n",
      "        [0.],\n",
      "        [0.],\n",
      "        [0.],\n",
      "        [1.],\n",
      "        [0.],\n",
      "        [1.],\n",
      "        [0.],\n",
      "        [1.],\n",
      "        [0.],\n",
      "        [0.],\n",
      "        [1.],\n",
      "        [0.],\n",
      "        [0.],\n",
      "        [0.],\n",
      "        [0.],\n",
      "        [1.],\n",
      "        [0.],\n",
      "        [0.],\n",
      "        [0.],\n",
      "        [1.],\n",
      "        [0.],\n",
      "        [0.],\n",
      "        [1.],\n",
      "        [0.],\n",
      "        [0.],\n",
      "        [1.],\n",
      "        [0.],\n",
      "        [0.],\n",
      "        [0.],\n",
      "        [0.],\n",
      "        [0.],\n",
      "        [0.],\n",
      "        [0.],\n",
      "        [1.],\n",
      "        [0.],\n",
      "        [1.],\n",
      "        [1.],\n",
      "        [0.],\n",
      "        [0.],\n",
      "        [1.],\n",
      "        [0.],\n",
      "        [0.],\n",
      "        [0.],\n",
      "        [1.],\n",
      "        [0.],\n",
      "        [0.],\n",
      "        [1.],\n",
      "        [0.],\n",
      "        [1.],\n",
      "        [1.],\n",
      "        [0.],\n",
      "        [0.],\n",
      "        [0.],\n",
      "        [0.],\n",
      "        [0.],\n",
      "        [0.],\n",
      "        [0.],\n",
      "        [0.],\n",
      "        [0.],\n",
      "        [1.],\n",
      "        [0.],\n",
      "        [0.],\n",
      "        [1.],\n",
      "        [0.],\n",
      "        [1.],\n",
      "        [0.],\n",
      "        [1.],\n",
      "        [1.],\n",
      "        [0.],\n",
      "        [1.],\n",
      "        [0.],\n",
      "        [1.],\n",
      "        [0.],\n",
      "        [0.],\n",
      "        [0.],\n",
      "        [0.],\n",
      "        [0.],\n",
      "        [1.],\n",
      "        [0.],\n",
      "        [1.],\n",
      "        [0.],\n",
      "        [1.],\n",
      "        [1.],\n",
      "        [0.],\n",
      "        [1.],\n",
      "        [0.],\n",
      "        [1.],\n",
      "        [0.],\n",
      "        [1.],\n",
      "        [1.],\n",
      "        [0.],\n",
      "        [0.],\n",
      "        [0.],\n",
      "        [0.],\n",
      "        [0.],\n",
      "        [0.],\n",
      "        [0.],\n",
      "        [1.],\n",
      "        [0.],\n",
      "        [0.],\n",
      "        [1.],\n",
      "        [1.],\n",
      "        [0.],\n",
      "        [0.],\n",
      "        [0.],\n",
      "        [1.],\n",
      "        [0.],\n",
      "        [1.],\n",
      "        [1.],\n",
      "        [0.],\n",
      "        [0.],\n",
      "        [0.],\n",
      "        [0.],\n",
      "        [0.]])\n"
     ]
    }
   ],
   "source": [
    "print(val_y)"
   ]
  },
  {
   "cell_type": "markdown",
   "metadata": {
    "heading_collapsed": true
   },
   "source": [
    "### Model "
   ]
  },
  {
   "cell_type": "code",
   "execution_count": 32,
   "metadata": {
    "ExecuteTime": {
     "end_time": "2020-12-28T19:19:55.371789Z",
     "start_time": "2020-12-28T19:19:55.339788Z"
    },
    "hidden": true
   },
   "outputs": [
    {
     "data": {
      "text/plain": [
       "'\"\\n        \\n      #  x = self.cnn_layers(x)\\n        x = x.view(x.size(0), -1)\\n\\n        x = self.linear_layers(x)\\n        return x\\n'"
      ]
     },
     "execution_count": 32,
     "metadata": {},
     "output_type": "execute_result"
    }
   ],
   "source": [
    "#define the architecture \n",
    "\n",
    "class convNet(nn.Module):\n",
    "    \"\"\"\n",
    "    copies the neural net used in a paper.\n",
    "    \"Improved musical onset detection with Convolutional Neural Networks\".\n",
    "    src: https://ieeexplore.ieee.org/document/6854953\n",
    "    \"\"\"\n",
    "\n",
    "    def __init__(self):\n",
    "\n",
    "        super(convNet, self).__init__()\n",
    "        # model\n",
    "        self.conv1 = nn.Conv2d(3, 10, (3, 7))\n",
    "        self.conv2 = nn.Conv2d(10, 20, 3)\n",
    "        self.fc1 = nn.Linear(1120, 256)\n",
    "        self.fc2 = nn.Linear(256, 120)\n",
    "        self.fc3 = nn.Linear(120, 1)\n",
    "\n",
    "\n",
    "    def forward(self, x, istraining=False, minibatch=1):\n",
    " #       print(x.shape)\n",
    "        x = F.max_pool2d(F.relu(self.conv1(x.float())), (3, 1))\n",
    "\n",
    "     #   print(x)\n",
    " #       print(\"after max pool2D 1 :\",x.shape)\n",
    "        x = F.max_pool2d(F.relu(self.conv2(x)), (3, 1))\n",
    "  #      print(\"after max pool2D 2 :\",x.shape)\n",
    "        #Add the minibatch in the training loop \n",
    "        x = F.dropout(x.view(x.shape[0], -1), training=istraining)\n",
    "   #     print(\"after dropout1  :\",x.shape)\n",
    "        x=self.fc1(x)\n",
    "        x=F.relu(x)\n",
    "    #    print(\"after relu 1  :\",x.shape)\n",
    "\n",
    "        \n",
    "        x = F.dropout(x, training=istraining)\n",
    "     #   print(\"after dropout2  :\",x.shape)\n",
    "        \n",
    "        x=F.relu(self.fc2(x))\n",
    "      #  print(\"after relu 1  :\",x.shape)\n",
    "\n",
    "\n",
    "        x = F.dropout(x, training=istraining)\n",
    "\n",
    "       # print(\"after dropout3  :\",x.shape)\n",
    "        x=self.fc3(x)\n",
    "        #print(\"fc3 works\")\n",
    "        x=F.sigmoid(x)\n",
    "#        print(\"nan count = \", torch.sum(torch.isnan(x)))\n",
    "\n",
    "        return x\n",
    "\n",
    "\"\"\"\"\n",
    "        \n",
    "      #  x = self.cnn_layers(x)\n",
    "        x = x.view(x.size(0), -1)\n",
    "\n",
    "        x = self.linear_layers(x)\n",
    "        return x\n",
    "\"\"\""
   ]
  },
  {
   "cell_type": "code",
   "execution_count": 33,
   "metadata": {
    "ExecuteTime": {
     "end_time": "2020-12-28T19:19:55.403788Z",
     "start_time": "2020-12-28T19:19:55.371789Z"
    },
    "hidden": true
   },
   "outputs": [
    {
     "name": "stdout",
     "output_type": "stream",
     "text": [
      "convNet(\n",
      "  (conv1): Conv2d(3, 10, kernel_size=(3, 7), stride=(1, 1))\n",
      "  (conv2): Conv2d(10, 20, kernel_size=(3, 3), stride=(1, 1))\n",
      "  (fc1): Linear(in_features=1120, out_features=256, bias=True)\n",
      "  (fc2): Linear(in_features=256, out_features=120, bias=True)\n",
      "  (fc3): Linear(in_features=120, out_features=1, bias=True)\n",
      ")\n"
     ]
    }
   ],
   "source": [
    "# defining the model\n",
    "model = convNet()\n",
    "# defining the optimizer\n",
    "\n",
    "#TODO : tune the parameter\n",
    "optimizer = Adam(model.parameters(), lr=adam_lr)\n",
    "\n",
    "# defining the loss function\n",
    "criterion = nn.MSELoss()\n",
    "\n",
    "#question \n",
    "# checking if GPU is available\n",
    "if torch.cuda.is_available():\n",
    "    model = model.cuda()\n",
    "    criterion = criterion.cuda()\n",
    "    \n",
    "print(model)\n"
   ]
  },
  {
   "cell_type": "code",
   "execution_count": 34,
   "metadata": {
    "ExecuteTime": {
     "end_time": "2020-12-28T19:19:55.427788Z",
     "start_time": "2020-12-28T19:19:55.403788Z"
    },
    "hidden": true
   },
   "outputs": [],
   "source": [
    "#train the model \n",
    "def train(epoch):\n",
    "    model.train()\n",
    "    tr_loss = 0\n",
    "    # getting the training set\n",
    "    x_train, y_train = Variable(train_x), Variable(train_y)\n",
    "    # getting the validation set\n",
    "    x_val, y_val = Variable(val_x), Variable(val_y)\n",
    "    # converting the data into GPU format\n",
    "    if torch.cuda.is_available():\n",
    "        x_train = x_train.cuda()\n",
    "        y_train = y_train.cuda()\n",
    "        x_val = x_val.cuda()\n",
    "        y_val = y_val.cuda()\n",
    "\n",
    "    x_train[x_train == -float(\"Inf\")] = -100\n",
    "    x_val[x_val == -float(\"Inf\")] = -100\n",
    "\n",
    "    # clearing the Gradients of the model parameters\n",
    "    optimizer.zero_grad()\n",
    "    # prediction for training and validation set\n",
    "  #  print(x_train)\n",
    "    output_train = model(x_train)\n",
    "#    print(\"output train\",output_train)\n",
    "    output_val = model(x_val)\n",
    "#    print(\"output train\",output_val)\n",
    "\n",
    "#   print(\"nan count output train= \", torch.sum(torch.isnan(output_train)))\n",
    "   # print(\"output train\",output_train.shape)\n",
    "   # print(\"output_val\", y_train.shape)\n",
    "    # computing the training and validation loss\n",
    "    loss_train = criterion(output_train, y_train)\n",
    "    loss_val = criterion(output_val, y_val)\n",
    "    \n",
    "    train_losses.append(loss_train)\n",
    "    val_losses.append(loss_val)\n",
    "    # computing the updated weights of all the model parameters\n",
    "    loss_train.backward()\n",
    "    optimizer.step()\n",
    "    tr_loss = loss_train.item()\n",
    "    if epoch%2 == 0:\n",
    "        # printing the validation loss\n",
    "        print('Epoch : ',epoch+1, '\\t', 'loss :', loss_val)"
   ]
  },
  {
   "cell_type": "markdown",
   "metadata": {
    "hidden": true
   },
   "source": []
  },
  {
   "cell_type": "code",
   "execution_count": 44,
   "metadata": {
    "ExecuteTime": {
     "end_time": "2020-12-28T22:56:24.958721Z",
     "start_time": "2020-12-28T22:55:02.263016Z"
    },
    "hidden": true,
    "scrolled": true
   },
   "outputs": [
    {
     "name": "stdout",
     "output_type": "stream",
     "text": [
      "Epoch :  1 \t loss : tensor(0.1527, grad_fn=<MseLossBackward>)\n",
      "Epoch :  3 \t loss : tensor(0.1575, grad_fn=<MseLossBackward>)\n",
      "Epoch :  5 \t loss : tensor(0.1573, grad_fn=<MseLossBackward>)\n",
      "Epoch :  7 \t loss : tensor(0.1540, grad_fn=<MseLossBackward>)\n",
      "Epoch :  9 \t loss : tensor(0.1516, grad_fn=<MseLossBackward>)\n",
      "Epoch :  11 \t loss : tensor(0.1495, grad_fn=<MseLossBackward>)\n",
      "Epoch :  13 \t loss : tensor(0.1670, grad_fn=<MseLossBackward>)\n",
      "Epoch :  15 \t loss : tensor(0.1539, grad_fn=<MseLossBackward>)\n",
      "Epoch :  17 \t loss : tensor(0.1621, grad_fn=<MseLossBackward>)\n",
      "Epoch :  19 \t loss : tensor(0.1550, grad_fn=<MseLossBackward>)\n",
      "Epoch :  21 \t loss : tensor(0.1533, grad_fn=<MseLossBackward>)\n",
      "Epoch :  23 \t loss : tensor(0.1687, grad_fn=<MseLossBackward>)\n",
      "Epoch :  25 \t loss : tensor(0.1641, grad_fn=<MseLossBackward>)\n",
      "Epoch :  27 \t loss : tensor(0.1519, grad_fn=<MseLossBackward>)\n",
      "Epoch :  29 \t loss : tensor(0.1609, grad_fn=<MseLossBackward>)\n",
      "Epoch :  31 \t loss : tensor(0.1834, grad_fn=<MseLossBackward>)\n",
      "Epoch :  33 \t loss : tensor(0.1649, grad_fn=<MseLossBackward>)\n",
      "Epoch :  35 \t loss : tensor(0.1617, grad_fn=<MseLossBackward>)\n",
      "Epoch :  37 \t loss : tensor(0.1677, grad_fn=<MseLossBackward>)\n",
      "Epoch :  39 \t loss : tensor(0.1666, grad_fn=<MseLossBackward>)\n",
      "Epoch :  41 \t loss : tensor(0.1607, grad_fn=<MseLossBackward>)\n",
      "Epoch :  43 \t loss : tensor(0.1605, grad_fn=<MseLossBackward>)\n",
      "Epoch :  45 \t loss : tensor(0.1628, grad_fn=<MseLossBackward>)\n",
      "Epoch :  47 \t loss : tensor(0.1589, grad_fn=<MseLossBackward>)\n",
      "Epoch :  49 \t loss : tensor(0.1650, grad_fn=<MseLossBackward>)\n",
      "Epoch :  51 \t loss : tensor(0.1651, grad_fn=<MseLossBackward>)\n",
      "Epoch :  53 \t loss : tensor(0.1552, grad_fn=<MseLossBackward>)\n",
      "Epoch :  55 \t loss : tensor(0.1654, grad_fn=<MseLossBackward>)\n",
      "Epoch :  57 \t loss : tensor(0.1654, grad_fn=<MseLossBackward>)\n",
      "Epoch :  59 \t loss : tensor(0.1791, grad_fn=<MseLossBackward>)\n",
      "Epoch :  61 \t loss : tensor(0.1787, grad_fn=<MseLossBackward>)\n",
      "Epoch :  63 \t loss : tensor(0.1564, grad_fn=<MseLossBackward>)\n",
      "Epoch :  65 \t loss : tensor(0.1506, grad_fn=<MseLossBackward>)\n",
      "Epoch :  67 \t loss : tensor(0.1713, grad_fn=<MseLossBackward>)\n",
      "Epoch :  69 \t loss : tensor(0.1826, grad_fn=<MseLossBackward>)\n",
      "Epoch :  71 \t loss : tensor(0.1545, grad_fn=<MseLossBackward>)\n",
      "Epoch :  73 \t loss : tensor(0.1747, grad_fn=<MseLossBackward>)\n",
      "Epoch :  75 \t loss : tensor(0.1608, grad_fn=<MseLossBackward>)\n",
      "Epoch :  77 \t loss : tensor(0.1666, grad_fn=<MseLossBackward>)\n",
      "Epoch :  79 \t loss : tensor(0.1777, grad_fn=<MseLossBackward>)\n",
      "Epoch :  81 \t loss : tensor(0.1678, grad_fn=<MseLossBackward>)\n",
      "Epoch :  83 \t loss : tensor(0.1676, grad_fn=<MseLossBackward>)\n",
      "Epoch :  85 \t loss : tensor(0.1676, grad_fn=<MseLossBackward>)\n",
      "Epoch :  87 \t loss : tensor(0.1709, grad_fn=<MseLossBackward>)\n",
      "Epoch :  89 \t loss : tensor(0.1669, grad_fn=<MseLossBackward>)\n",
      "Epoch :  91 \t loss : tensor(0.1749, grad_fn=<MseLossBackward>)\n",
      "Epoch :  93 \t loss : tensor(0.1732, grad_fn=<MseLossBackward>)\n",
      "Epoch :  95 \t loss : tensor(0.1784, grad_fn=<MseLossBackward>)\n",
      "Epoch :  97 \t loss : tensor(0.1838, grad_fn=<MseLossBackward>)\n",
      "Epoch :  99 \t loss : tensor(0.1807, grad_fn=<MseLossBackward>)\n"
     ]
    }
   ],
   "source": [
    "# defining the number of epochs\n",
    "n_epochs = 100\n",
    "# empty list to store training losses\n",
    "train_losses = []\n",
    "# empty list to store validation losses\n",
    "val_losses = []\n",
    "# training the model\n",
    "for epoch in range(n_epochs):\n",
    "    train(epoch)\n"
   ]
  },
  {
   "cell_type": "code",
   "execution_count": 38,
   "metadata": {
    "ExecuteTime": {
     "end_time": "2020-12-28T19:27:50.021678Z",
     "start_time": "2020-12-28T19:27:49.805674Z"
    },
    "hidden": true
   },
   "outputs": [
    {
     "data": {
      "image/png": "[encoded data removed]",
      "text/plain": [
       "<Figure size 432x288 with 1 Axes>"
      ]
     },
     "metadata": {
      "needs_background": "light"
     },
     "output_type": "display_data"
    }
   ],
   "source": [
    "# plotting the training and validation loss\n",
    "plt.plot(train_losses, label='Training loss')\n",
    "plt.plot(val_losses, label='Validation loss')\n",
    "plt.legend()\n",
    "plt.show()"
   ]
  },
  {
   "cell_type": "code",
   "execution_count": 41,
   "metadata": {
    "ExecuteTime": {
     "end_time": "2020-12-28T19:28:10.052250Z",
     "start_time": "2020-12-28T19:28:10.004296Z"
    },
    "hidden": true
   },
   "outputs": [
    {
     "data": {
      "text/plain": [
       "0.6932515337423313"
      ]
     },
     "execution_count": 41,
     "metadata": {},
     "output_type": "execute_result"
    }
   ],
   "source": [
    "# prediction for validation set\n",
    "with torch.no_grad():\n",
    "    output = model(val_x)\n",
    "\n",
    "softmax = torch.exp(output).cpu()\n",
    "prob = list(softmax.numpy())\n",
    "predictions = np.argmax(prob, axis=1)\n",
    "\n",
    "# accuracy on validation set\n",
    "accuracy_score(val_y, predictions)"
   ]
  },
  {
   "cell_type": "code",
   "execution_count": null,
   "metadata": {
    "hidden": true
   },
   "outputs": [],
   "source": []
  }
 ],
 "metadata": {
  "kernelspec": {
   "display_name": "Python 3",
   "language": "python",
   "name": "python3"
  },
  "language_info": {
   "codemirror_mode": {
    "name": "ipython",
    "version": 3
   },
   "file_extension": ".py",
   "mimetype": "text/x-python",
   "name": "python",
   "nbconvert_exporter": "python",
   "pygments_lexer": "ipython3",
   "version": "3.8.3"
  },
  "toc": {
   "base_numbering": 1,
   "nav_menu": {},
   "number_sections": true,
   "sideBar": true,
   "skip_h1_title": false,
   "title_cell": "Table of Contents",
   "title_sidebar": "Contents",
   "toc_cell": false,
   "toc_position": {},
   "toc_section_display": true,
   "toc_window_display": true
  }
 },
 "nbformat": 4,
 "nbformat_minor": 4
}
